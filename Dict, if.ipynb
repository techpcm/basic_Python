{
 "cells": [
  {
   "cell_type": "markdown",
   "id": "98a0d25d-3946-4dd4-ac47-fb4703cbd7df",
   "metadata": {},
   "source": [
    "\n",
    "\n",
    "# set"
   ]
  },
  {
   "cell_type": "code",
   "execution_count": 1,
   "id": "dc180a68-2bac-4eef-916b-80568a477a09",
   "metadata": {},
   "outputs": [
    {
     "data": {
      "text/plain": [
       "range(0, 10)"
      ]
     },
     "execution_count": 1,
     "metadata": {},
     "output_type": "execute_result"
    }
   ],
   "source": [
    "range(10)"
   ]
  },
  {
   "cell_type": "code",
   "execution_count": 2,
   "id": "ec7a5285-e7a5-4137-8918-5002db676869",
   "metadata": {},
   "outputs": [
    {
     "data": {
      "text/plain": [
       "[0, 1, 2, 3, 4, 5, 6, 7, 8, 9]"
      ]
     },
     "execution_count": 2,
     "metadata": {},
     "output_type": "execute_result"
    }
   ],
   "source": [
    "list(range(10))"
   ]
  },
  {
   "cell_type": "code",
   "execution_count": 4,
   "id": "a9a77fa5-2a02-4ba4-931d-292387a92cbe",
   "metadata": {},
   "outputs": [
    {
     "data": {
      "text/plain": [
       "{0, 1, 2, 3, 4, 5, 6, 7, 8, 9}"
      ]
     },
     "execution_count": 4,
     "metadata": {},
     "output_type": "execute_result"
    }
   ],
   "source": [
    "s1 = set(range(10))\n",
    "s1"
   ]
  },
  {
   "cell_type": "code",
   "execution_count": 5,
   "id": "71770b2c-666b-4258-b201-236e4fa09c07",
   "metadata": {},
   "outputs": [
    {
     "data": {
      "text/plain": [
       "10"
      ]
     },
     "execution_count": 5,
     "metadata": {},
     "output_type": "execute_result"
    }
   ],
   "source": [
    "# length \n",
    "len(s1)"
   ]
  },
  {
   "cell_type": "code",
   "execution_count": 6,
   "id": "87a8d6a3-f014-49f0-8347-856d1354ee10",
   "metadata": {},
   "outputs": [
    {
     "name": "stdout",
     "output_type": "stream",
     "text": [
      "0\n",
      "1\n",
      "2\n",
      "3\n",
      "4\n",
      "5\n",
      "6\n",
      "7\n",
      "8\n",
      "9\n"
     ]
    }
   ],
   "source": [
    "for i in s1: \n",
    "    print(i)"
   ]
  },
  {
   "cell_type": "code",
   "execution_count": 7,
   "id": "edd8879d-7311-4ff5-8c21-b278dcdf5ed8",
   "metadata": {},
   "outputs": [
    {
     "name": "stdout",
     "output_type": "stream",
     "text": [
      "(0, 0)\n",
      "(1, 1)\n",
      "(2, 2)\n",
      "(3, 3)\n",
      "(4, 4)\n",
      "(5, 5)\n",
      "(6, 6)\n",
      "(7, 7)\n",
      "(8, 8)\n",
      "(9, 9)\n"
     ]
    }
   ],
   "source": [
    "# enumerate \n",
    "for i in enumerate(s1 ): \n",
    "    print(i)"
   ]
  },
  {
   "cell_type": "code",
   "execution_count": 8,
   "id": "b3098b9b-1188-4684-ba47-1be3d74edcf7",
   "metadata": {},
   "outputs": [
    {
     "data": {
      "text/plain": [
       "True"
      ]
     },
     "execution_count": 8,
     "metadata": {},
     "output_type": "execute_result"
    }
   ],
   "source": [
    "# String membership \n",
    "6 in s1"
   ]
  },
  {
   "cell_type": "code",
   "execution_count": 9,
   "id": "7bb60c10-c35d-4864-a1d9-34462d3273f3",
   "metadata": {},
   "outputs": [
    {
     "data": {
      "text/plain": [
       "False"
      ]
     },
     "execution_count": 9,
     "metadata": {},
     "output_type": "execute_result"
    }
   ],
   "source": [
    "'8' in s1"
   ]
  },
  {
   "cell_type": "code",
   "execution_count": 11,
   "id": "c84fa69f-68c6-46ff-807a-bd037a5e8b86",
   "metadata": {},
   "outputs": [
    {
     "data": {
      "text/plain": [
       "[9, 8, 7, 6, 5, 4, 3, 2, 1, 0]"
      ]
     },
     "execution_count": 11,
     "metadata": {},
     "output_type": "execute_result"
    }
   ],
   "source": [
    "sorted(s1, reverse=True)"
   ]
  },
  {
   "cell_type": "code",
   "execution_count": 12,
   "id": "376b3e05-78cf-4ad5-b164-379386cc4280",
   "metadata": {},
   "outputs": [
    {
     "data": {
      "text/plain": [
       "45"
      ]
     },
     "execution_count": 12,
     "metadata": {},
     "output_type": "execute_result"
    }
   ],
   "source": [
    "sum(s1)"
   ]
  },
  {
   "cell_type": "code",
   "execution_count": 13,
   "id": "a2e205de-fb2a-4c39-a31e-1f1deaf4aa6b",
   "metadata": {},
   "outputs": [
    {
     "data": {
      "text/plain": [
       "0"
      ]
     },
     "execution_count": 13,
     "metadata": {},
     "output_type": "execute_result"
    }
   ],
   "source": [
    "min(s1)"
   ]
  },
  {
   "cell_type": "code",
   "execution_count": 14,
   "id": "441d4597-901c-418e-862c-10550c577391",
   "metadata": {},
   "outputs": [
    {
     "data": {
      "text/plain": [
       "9"
      ]
     },
     "execution_count": 14,
     "metadata": {},
     "output_type": "execute_result"
    }
   ],
   "source": [
    "max(s1)"
   ]
  },
  {
   "cell_type": "code",
   "execution_count": 16,
   "id": "8850263e-a723-4702-afc5-15c54e82d4d2",
   "metadata": {},
   "outputs": [],
   "source": [
    "import math"
   ]
  },
  {
   "cell_type": "code",
   "execution_count": 20,
   "id": "1377c69d-57b4-47dd-964d-4e34fa5faf00",
   "metadata": {},
   "outputs": [
    {
     "name": "stdout",
     "output_type": "stream",
     "text": [
      "Help on built-in module math:\n",
      "\n",
      "NAME\n",
      "    math\n",
      "\n",
      "DESCRIPTION\n",
      "    This module provides access to the mathematical functions\n",
      "    defined by the C standard.\n",
      "\n",
      "FUNCTIONS\n",
      "    acos(x, /)\n",
      "        Return the arc cosine (measured in radians) of x.\n",
      "        \n",
      "        The result is between 0 and pi.\n",
      "    \n",
      "    acosh(x, /)\n",
      "        Return the inverse hyperbolic cosine of x.\n",
      "    \n",
      "    asin(x, /)\n",
      "        Return the arc sine (measured in radians) of x.\n",
      "        \n",
      "        The result is between -pi/2 and pi/2.\n",
      "    \n",
      "    asinh(x, /)\n",
      "        Return the inverse hyperbolic sine of x.\n",
      "    \n",
      "    atan(x, /)\n",
      "        Return the arc tangent (measured in radians) of x.\n",
      "        \n",
      "        The result is between -pi/2 and pi/2.\n",
      "    \n",
      "    atan2(y, x, /)\n",
      "        Return the arc tangent (measured in radians) of y/x.\n",
      "        \n",
      "        Unlike atan(y/x), the signs of both x and y are considered.\n",
      "    \n",
      "    atanh(x, /)\n",
      "        Return the inverse hyperbolic tangent of x.\n",
      "    \n",
      "    cbrt(x, /)\n",
      "        Return the cube root of x.\n",
      "    \n",
      "    ceil(x, /)\n",
      "        Return the ceiling of x as an Integral.\n",
      "        \n",
      "        This is the smallest integer >= x.\n",
      "    \n",
      "    comb(n, k, /)\n",
      "        Number of ways to choose k items from n items without repetition and without order.\n",
      "        \n",
      "        Evaluates to n! / (k! * (n - k)!) when k <= n and evaluates\n",
      "        to zero when k > n.\n",
      "        \n",
      "        Also called the binomial coefficient because it is equivalent\n",
      "        to the coefficient of k-th term in polynomial expansion of the\n",
      "        expression (1 + x)**n.\n",
      "        \n",
      "        Raises TypeError if either of the arguments are not integers.\n",
      "        Raises ValueError if either of the arguments are negative.\n",
      "    \n",
      "    copysign(x, y, /)\n",
      "        Return a float with the magnitude (absolute value) of x but the sign of y.\n",
      "        \n",
      "        On platforms that support signed zeros, copysign(1.0, -0.0)\n",
      "        returns -1.0.\n",
      "    \n",
      "    cos(x, /)\n",
      "        Return the cosine of x (measured in radians).\n",
      "    \n",
      "    cosh(x, /)\n",
      "        Return the hyperbolic cosine of x.\n",
      "    \n",
      "    degrees(x, /)\n",
      "        Convert angle x from radians to degrees.\n",
      "    \n",
      "    dist(p, q, /)\n",
      "        Return the Euclidean distance between two points p and q.\n",
      "        \n",
      "        The points should be specified as sequences (or iterables) of\n",
      "        coordinates.  Both inputs must have the same dimension.\n",
      "        \n",
      "        Roughly equivalent to:\n",
      "            sqrt(sum((px - qx) ** 2.0 for px, qx in zip(p, q)))\n",
      "    \n",
      "    erf(x, /)\n",
      "        Error function at x.\n",
      "    \n",
      "    erfc(x, /)\n",
      "        Complementary error function at x.\n",
      "    \n",
      "    exp(x, /)\n",
      "        Return e raised to the power of x.\n",
      "    \n",
      "    exp2(x, /)\n",
      "        Return 2 raised to the power of x.\n",
      "    \n",
      "    expm1(x, /)\n",
      "        Return exp(x)-1.\n",
      "        \n",
      "        This function avoids the loss of precision involved in the direct evaluation of exp(x)-1 for small x.\n",
      "    \n",
      "    fabs(x, /)\n",
      "        Return the absolute value of the float x.\n",
      "    \n",
      "    factorial(n, /)\n",
      "        Find n!.\n",
      "        \n",
      "        Raise a ValueError if x is negative or non-integral.\n",
      "    \n",
      "    floor(x, /)\n",
      "        Return the floor of x as an Integral.\n",
      "        \n",
      "        This is the largest integer <= x.\n",
      "    \n",
      "    fmod(x, y, /)\n",
      "        Return fmod(x, y), according to platform C.\n",
      "        \n",
      "        x % y may differ.\n",
      "    \n",
      "    frexp(x, /)\n",
      "        Return the mantissa and exponent of x, as pair (m, e).\n",
      "        \n",
      "        m is a float and e is an int, such that x = m * 2.**e.\n",
      "        If x is 0, m and e are both 0.  Else 0.5 <= abs(m) < 1.0.\n",
      "    \n",
      "    fsum(seq, /)\n",
      "        Return an accurate floating point sum of values in the iterable seq.\n",
      "        \n",
      "        Assumes IEEE-754 floating point arithmetic.\n",
      "    \n",
      "    gamma(x, /)\n",
      "        Gamma function at x.\n",
      "    \n",
      "    gcd(*integers)\n",
      "        Greatest Common Divisor.\n",
      "    \n",
      "    hypot(...)\n",
      "        hypot(*coordinates) -> value\n",
      "        \n",
      "        Multidimensional Euclidean distance from the origin to a point.\n",
      "        \n",
      "        Roughly equivalent to:\n",
      "            sqrt(sum(x**2 for x in coordinates))\n",
      "        \n",
      "        For a two dimensional point (x, y), gives the hypotenuse\n",
      "        using the Pythagorean theorem:  sqrt(x*x + y*y).\n",
      "        \n",
      "        For example, the hypotenuse of a 3/4/5 right triangle is:\n",
      "        \n",
      "            >>> hypot(3.0, 4.0)\n",
      "            5.0\n",
      "    \n",
      "    isclose(a, b, *, rel_tol=1e-09, abs_tol=0.0)\n",
      "        Determine whether two floating point numbers are close in value.\n",
      "        \n",
      "          rel_tol\n",
      "            maximum difference for being considered \"close\", relative to the\n",
      "            magnitude of the input values\n",
      "          abs_tol\n",
      "            maximum difference for being considered \"close\", regardless of the\n",
      "            magnitude of the input values\n",
      "        \n",
      "        Return True if a is close in value to b, and False otherwise.\n",
      "        \n",
      "        For the values to be considered close, the difference between them\n",
      "        must be smaller than at least one of the tolerances.\n",
      "        \n",
      "        -inf, inf and NaN behave similarly to the IEEE 754 Standard.  That\n",
      "        is, NaN is not close to anything, even itself.  inf and -inf are\n",
      "        only close to themselves.\n",
      "    \n",
      "    isfinite(x, /)\n",
      "        Return True if x is neither an infinity nor a NaN, and False otherwise.\n",
      "    \n",
      "    isinf(x, /)\n",
      "        Return True if x is a positive or negative infinity, and False otherwise.\n",
      "    \n",
      "    isnan(x, /)\n",
      "        Return True if x is a NaN (not a number), and False otherwise.\n",
      "    \n",
      "    isqrt(n, /)\n",
      "        Return the integer part of the square root of the input.\n",
      "    \n",
      "    lcm(*integers)\n",
      "        Least Common Multiple.\n",
      "    \n",
      "    ldexp(x, i, /)\n",
      "        Return x * (2**i).\n",
      "        \n",
      "        This is essentially the inverse of frexp().\n",
      "    \n",
      "    lgamma(x, /)\n",
      "        Natural logarithm of absolute value of Gamma function at x.\n",
      "    \n",
      "    log(...)\n",
      "        log(x, [base=math.e])\n",
      "        Return the logarithm of x to the given base.\n",
      "        \n",
      "        If the base not specified, returns the natural logarithm (base e) of x.\n",
      "    \n",
      "    log10(x, /)\n",
      "        Return the base 10 logarithm of x.\n",
      "    \n",
      "    log1p(x, /)\n",
      "        Return the natural logarithm of 1+x (base e).\n",
      "        \n",
      "        The result is computed in a way which is accurate for x near zero.\n",
      "    \n",
      "    log2(x, /)\n",
      "        Return the base 2 logarithm of x.\n",
      "    \n",
      "    modf(x, /)\n",
      "        Return the fractional and integer parts of x.\n",
      "        \n",
      "        Both results carry the sign of x and are floats.\n",
      "    \n",
      "    nextafter(x, y, /)\n",
      "        Return the next floating-point value after x towards y.\n",
      "    \n",
      "    perm(n, k=None, /)\n",
      "        Number of ways to choose k items from n items without repetition and with order.\n",
      "        \n",
      "        Evaluates to n! / (n - k)! when k <= n and evaluates\n",
      "        to zero when k > n.\n",
      "        \n",
      "        If k is not specified or is None, then k defaults to n\n",
      "        and the function returns n!.\n",
      "        \n",
      "        Raises TypeError if either of the arguments are not integers.\n",
      "        Raises ValueError if either of the arguments are negative.\n",
      "    \n",
      "    pow(x, y, /)\n",
      "        Return x**y (x to the power of y).\n",
      "    \n",
      "    prod(iterable, /, *, start=1)\n",
      "        Calculate the product of all the elements in the input iterable.\n",
      "        \n",
      "        The default start value for the product is 1.\n",
      "        \n",
      "        When the iterable is empty, return the start value.  This function is\n",
      "        intended specifically for use with numeric values and may reject\n",
      "        non-numeric types.\n",
      "    \n",
      "    radians(x, /)\n",
      "        Convert angle x from degrees to radians.\n",
      "    \n",
      "    remainder(x, y, /)\n",
      "        Difference between x and the closest integer multiple of y.\n",
      "        \n",
      "        Return x - n*y where n*y is the closest integer multiple of y.\n",
      "        In the case where x is exactly halfway between two multiples of\n",
      "        y, the nearest even value of n is used. The result is always exact.\n",
      "    \n",
      "    sin(x, /)\n",
      "        Return the sine of x (measured in radians).\n",
      "    \n",
      "    sinh(x, /)\n",
      "        Return the hyperbolic sine of x.\n",
      "    \n",
      "    sqrt(x, /)\n",
      "        Return the square root of x.\n",
      "    \n",
      "    tan(x, /)\n",
      "        Return the tangent of x (measured in radians).\n",
      "    \n",
      "    tanh(x, /)\n",
      "        Return the hyperbolic tangent of x.\n",
      "    \n",
      "    trunc(x, /)\n",
      "        Truncates the Real x to the nearest Integral toward 0.\n",
      "        \n",
      "        Uses the __trunc__ magic method.\n",
      "    \n",
      "    ulp(x, /)\n",
      "        Return the value of the least significant bit of the float x.\n",
      "\n",
      "DATA\n",
      "    e = 2.718281828459045\n",
      "    inf = inf\n",
      "    nan = nan\n",
      "    pi = 3.141592653589793\n",
      "    tau = 6.283185307179586\n",
      "\n",
      "FILE\n",
      "    (built-in)\n",
      "\n",
      "\n"
     ]
    }
   ],
   "source": [
    "help(math)"
   ]
  },
  {
   "cell_type": "code",
   "execution_count": 22,
   "id": "6ca6ac3b-9ade-499f-9334-8a29c811d387",
   "metadata": {},
   "outputs": [
    {
     "data": {
      "text/plain": [
       "4.5"
      ]
     },
     "execution_count": 22,
     "metadata": {},
     "output_type": "execute_result"
    }
   ],
   "source": [
    "avg = sum(s1)/len(s1)\n",
    "avg"
   ]
  },
  {
   "cell_type": "markdown",
   "id": "33512909-701a-4a58-ae35-b05d272018ab",
   "metadata": {},
   "source": [
    "# Dict \n",
    "* Representation - {key : value}"
   ]
  },
  {
   "cell_type": "code",
   "execution_count": 24,
   "id": "9c29e2a4-d035-4aaa-8f8b-4dc9c4a8fc14",
   "metadata": {},
   "outputs": [
    {
     "data": {
      "text/plain": [
       "({}, dict)"
      ]
     },
     "execution_count": 24,
     "metadata": {},
     "output_type": "execute_result"
    }
   ],
   "source": [
    "# create a dict \n",
    "my_dict = {}\n",
    "my_dict, type(my_dict)"
   ]
  },
  {
   "cell_type": "code",
   "execution_count": 25,
   "id": "f2c04228-b322-4ede-8c88-47cb0a6db918",
   "metadata": {},
   "outputs": [
    {
     "data": {
      "text/plain": [
       "{'a': 1, 'b': 8, 100: 'dict'}"
      ]
     },
     "execution_count": 25,
     "metadata": {},
     "output_type": "execute_result"
    }
   ],
   "source": [
    "my_dict1 = {'a':1, 'b':8, 100:'dict'}\n",
    "my_dict1"
   ]
  },
  {
   "cell_type": "code",
   "execution_count": 27,
   "id": "a0b6738b-5232-44ec-b534-b40f7ea32de8",
   "metadata": {},
   "outputs": [
    {
     "data": {
      "text/plain": [
       "{('a', 'b'): 10, 'b': [20, 40, 60]}"
      ]
     },
     "execution_count": 27,
     "metadata": {},
     "output_type": "execute_result"
    }
   ],
   "source": [
    "mydict2 = {('a', 'b'): 10, 'b':[20, 40, 60]}\n",
    "mydict2"
   ]
  },
  {
   "cell_type": "code",
   "execution_count": 28,
   "id": "009a335a-bdc1-4a44-a14c-8e78d54ad313",
   "metadata": {},
   "outputs": [
    {
     "data": {
      "text/plain": [
       "dict_keys(['a', 'b', 100])"
      ]
     },
     "execution_count": 28,
     "metadata": {},
     "output_type": "execute_result"
    }
   ],
   "source": [
    "my_dict1.keys()"
   ]
  },
  {
   "cell_type": "code",
   "execution_count": 29,
   "id": "2f195f39-f7e8-4eff-81ad-99ed5dce45cc",
   "metadata": {},
   "outputs": [
    {
     "data": {
      "text/plain": [
       "dict_values([1, 8, 'dict'])"
      ]
     },
     "execution_count": 29,
     "metadata": {},
     "output_type": "execute_result"
    }
   ],
   "source": [
    "my_dict1.values()"
   ]
  },
  {
   "cell_type": "code",
   "execution_count": 30,
   "id": "368059c3-2663-445c-a115-98de28b31893",
   "metadata": {},
   "outputs": [
    {
     "data": {
      "text/plain": [
       "dict_items([('a', 1), ('b', 8), (100, 'dict')])"
      ]
     },
     "execution_count": 30,
     "metadata": {},
     "output_type": "execute_result"
    }
   ],
   "source": [
    "my_dict1.items()"
   ]
  },
  {
   "cell_type": "code",
   "execution_count": 31,
   "id": "d3c169bf-7d25-4885-8dca-d3fdd8aa2b95",
   "metadata": {},
   "outputs": [
    {
     "data": {
      "text/plain": [
       "'dict'"
      ]
     },
     "execution_count": 31,
     "metadata": {},
     "output_type": "execute_result"
    }
   ],
   "source": [
    "# Access dict through key\n",
    "my_dict1[100]"
   ]
  },
  {
   "cell_type": "code",
   "execution_count": 32,
   "id": "07a281bb-dbae-4e50-8f76-ace8866923e9",
   "metadata": {},
   "outputs": [
    {
     "data": {
      "text/plain": [
       "1"
      ]
     },
     "execution_count": 32,
     "metadata": {},
     "output_type": "execute_result"
    }
   ],
   "source": [
    "my_dict1['a']"
   ]
  },
  {
   "cell_type": "code",
   "execution_count": 33,
   "id": "84412e55-1ecb-4788-906d-1f0ba0dcff53",
   "metadata": {},
   "outputs": [
    {
     "ename": "KeyError",
     "evalue": "10",
     "output_type": "error",
     "traceback": [
      "\u001b[1;31m---------------------------------------------------------------------------\u001b[0m",
      "\u001b[1;31mKeyError\u001b[0m                                  Traceback (most recent call last)",
      "Cell \u001b[1;32mIn[33], line 1\u001b[0m\n\u001b[1;32m----> 1\u001b[0m \u001b[43mmy_dict1\u001b[49m\u001b[43m[\u001b[49m\u001b[38;5;241;43m10\u001b[39;49m\u001b[43m]\u001b[49m\n",
      "\u001b[1;31mKeyError\u001b[0m: 10"
     ]
    }
   ],
   "source": [
    "my_dict1[10]"
   ]
  },
  {
   "cell_type": "code",
   "execution_count": 34,
   "id": "35fd3321-5736-4dce-87d4-211b5feb0c87",
   "metadata": {},
   "outputs": [
    {
     "data": {
      "text/plain": [
       "'dict'"
      ]
     },
     "execution_count": 34,
     "metadata": {},
     "output_type": "execute_result"
    }
   ],
   "source": [
    "my_dict1.get(100)"
   ]
  },
  {
   "cell_type": "code",
   "execution_count": 35,
   "id": "ab09b510-6d86-4295-96eb-e0746fe46d44",
   "metadata": {},
   "outputs": [],
   "source": [
    "my_dict1.get(10)"
   ]
  },
  {
   "cell_type": "code",
   "execution_count": 36,
   "id": "8ebbb155-37f6-4828-a521-df8a02ce51e2",
   "metadata": {},
   "outputs": [
    {
     "data": {
      "text/plain": [
       "{'b': 10, 'c': 10, 'a': 10}"
      ]
     },
     "execution_count": 36,
     "metadata": {},
     "output_type": "execute_result"
    }
   ],
   "source": [
    "myset = {'a', 'b', 'c'}\n",
    "value = 10\n",
    "\n",
    "dict.fromkeys(myset, value)"
   ]
  },
  {
   "cell_type": "code",
   "execution_count": 37,
   "id": "572be88f-10f4-4aab-bf6b-db47e9969d0c",
   "metadata": {},
   "outputs": [
    {
     "data": {
      "text/plain": [
       "{'b': [10, 20, 30], 'c': [10, 20, 30], 'a': [10, 20, 30]}"
      ]
     },
     "execution_count": 37,
     "metadata": {},
     "output_type": "execute_result"
    }
   ],
   "source": [
    "myset = {'a', 'b', 'c'}\n",
    "value = [10, 20, 30]\n",
    "\n",
    "dict.fromkeys(myset, value)"
   ]
  },
  {
   "cell_type": "code",
   "execution_count": 38,
   "id": "51b84de4-d4fc-43c9-9a0f-c573a217605e",
   "metadata": {},
   "outputs": [
    {
     "data": {
      "text/plain": [
       "{'name': 'Roja', 'ID': 12345, 'job': 'Data Scientist'}"
      ]
     },
     "execution_count": 38,
     "metadata": {},
     "output_type": "execute_result"
    }
   ],
   "source": [
    "dict1 = {'name':'Roja', 'ID': 12345, 'job':'Data Scientist'}\n",
    "dict1"
   ]
  },
  {
   "cell_type": "code",
   "execution_count": 39,
   "id": "abc50cae-5d32-47f2-8c77-f497c4c10510",
   "metadata": {},
   "outputs": [
    {
     "data": {
      "text/plain": [
       "'Roja'"
      ]
     },
     "execution_count": 39,
     "metadata": {},
     "output_type": "execute_result"
    }
   ],
   "source": [
    "dict1['name']"
   ]
  },
  {
   "cell_type": "code",
   "execution_count": 40,
   "id": "c2206454-6e3c-47af-9e8e-8be4664f28e4",
   "metadata": {},
   "outputs": [
    {
     "data": {
      "text/plain": [
       "{'name': 'Roja', 'ID': 12345, 'job': 'Data Scientist', 'Location': 'Chennai'}"
      ]
     },
     "execution_count": 40,
     "metadata": {},
     "output_type": "execute_result"
    }
   ],
   "source": [
    "# To add data in to dict\n",
    "dict1.update({'Location':'Chennai'})\n",
    "dict1"
   ]
  },
  {
   "cell_type": "code",
   "execution_count": 42,
   "id": "5e738388-b918-4d84-8f99-45c3486d0c26",
   "metadata": {},
   "outputs": [
    {
     "data": {
      "text/plain": [
       "12345"
      ]
     },
     "execution_count": 42,
     "metadata": {},
     "output_type": "execute_result"
    }
   ],
   "source": [
    "# To remove data from the dict\n",
    "dict1.pop('ID')"
   ]
  },
  {
   "cell_type": "code",
   "execution_count": 43,
   "id": "525d4d42-c86e-45df-8e4f-bdf0a2a5d0c5",
   "metadata": {},
   "outputs": [
    {
     "data": {
      "text/plain": [
       "{'name': 'Roja', 'job': 'Data Scientist', 'Location': 'Chennai'}"
      ]
     },
     "execution_count": 43,
     "metadata": {},
     "output_type": "execute_result"
    }
   ],
   "source": [
    "dict1"
   ]
  },
  {
   "cell_type": "code",
   "execution_count": 45,
   "id": "73137650-793e-433b-8b87-721125293d8d",
   "metadata": {},
   "outputs": [],
   "source": [
    "# clear()\n",
    "my_dict1.clear()"
   ]
  },
  {
   "cell_type": "code",
   "execution_count": 46,
   "id": "e02aba07-9fc9-4fe9-b788-2d52005f336c",
   "metadata": {},
   "outputs": [
    {
     "data": {
      "text/plain": [
       "{}"
      ]
     },
     "execution_count": 46,
     "metadata": {},
     "output_type": "execute_result"
    }
   ],
   "source": [
    "my_dict1"
   ]
  },
  {
   "cell_type": "code",
   "execution_count": 48,
   "id": "12238e1d-2fa7-48ab-81d5-9b2d3126678e",
   "metadata": {},
   "outputs": [],
   "source": [
    "del mydict2['b']"
   ]
  },
  {
   "cell_type": "code",
   "execution_count": 49,
   "id": "548d9376-8e82-4be8-a365-673d510fcdbb",
   "metadata": {},
   "outputs": [
    {
     "data": {
      "text/plain": [
       "{('a', 'b'): 10}"
      ]
     },
     "execution_count": 49,
     "metadata": {},
     "output_type": "execute_result"
    }
   ],
   "source": [
    "mydict2"
   ]
  },
  {
   "cell_type": "code",
   "execution_count": 50,
   "id": "9ee82b4b-e402-41be-b8e7-d951df0cf5df",
   "metadata": {},
   "outputs": [],
   "source": [
    "del mydict2"
   ]
  },
  {
   "cell_type": "code",
   "execution_count": 51,
   "id": "50010422-dcc4-478d-8952-bc04722766f9",
   "metadata": {},
   "outputs": [
    {
     "ename": "NameError",
     "evalue": "name 'mydict2' is not defined",
     "output_type": "error",
     "traceback": [
      "\u001b[1;31m---------------------------------------------------------------------------\u001b[0m",
      "\u001b[1;31mNameError\u001b[0m                                 Traceback (most recent call last)",
      "Cell \u001b[1;32mIn[51], line 1\u001b[0m\n\u001b[1;32m----> 1\u001b[0m \u001b[43mmydict2\u001b[49m\n",
      "\u001b[1;31mNameError\u001b[0m: name 'mydict2' is not defined"
     ]
    }
   ],
   "source": [
    "mydict2"
   ]
  },
  {
   "cell_type": "code",
   "execution_count": 56,
   "id": "aeab766d-d5f7-4aad-b572-2352e2684e53",
   "metadata": {},
   "outputs": [
    {
     "name": "stdout",
     "output_type": "stream",
     "text": [
      "name : Roja\n",
      "job : Data Scientist\n",
      "Location : Chennai\n"
     ]
    }
   ],
   "source": [
    "# loop through dict \n",
    "for i in dict1: \n",
    "    # print(i) # keys\n",
    "    # print(dict1[i]) # values\n",
    "    print(i, ':', dict1[i])"
   ]
  },
  {
   "cell_type": "code",
   "execution_count": 69,
   "id": "13fb71d6-061c-4db8-b4e8-9a04de74539a",
   "metadata": {},
   "outputs": [
    {
     "data": {
      "text/plain": [
       "{0, 1, 2, 3, 4, 5, 6, 7, 8, 9}"
      ]
     },
     "execution_count": 69,
     "metadata": {},
     "output_type": "execute_result"
    }
   ],
   "source": [
    "s1"
   ]
  },
  {
   "cell_type": "code",
   "execution_count": 62,
   "id": "51ee1209-421c-4617-97eb-dbdcc15bb6a9",
   "metadata": {},
   "outputs": [
    {
     "data": {
      "text/plain": [
       "{0: 0, 1: 1, 2: 4, 3: 9, 4: 16, 5: 25, 6: 36, 7: 49, 8: 64, 9: 81}"
      ]
     },
     "execution_count": 62,
     "metadata": {},
     "output_type": "execute_result"
    }
   ],
   "source": [
    "# dict comprehension \n",
    "{i:i**2 for i in s1}"
   ]
  },
  {
   "cell_type": "code",
   "execution_count": 65,
   "id": "785007c9-62d2-4119-b3b6-dc6c190788b2",
   "metadata": {},
   "outputs": [
    {
     "data": {
      "text/plain": [
       "{11: 'D', 12: 'a', 13: 't', 14: 'a'}"
      ]
     },
     "execution_count": 65,
     "metadata": {},
     "output_type": "execute_result"
    }
   ],
   "source": [
    "str1 = 'Data'\n",
    "{k:v for (k,v) in enumerate(str1, start=11)}"
   ]
  },
  {
   "cell_type": "code",
   "execution_count": 74,
   "id": "7400e97b-360d-42a4-a432-3b0d92d18e45",
   "metadata": {},
   "outputs": [
    {
     "data": {
      "text/plain": [
       "{'W': 1, 'e': 2, 'l': 1, 'c': 1, 'o': 1, 'm': 1}"
      ]
     },
     "execution_count": 74,
     "metadata": {},
     "output_type": "execute_result"
    }
   ],
   "source": [
    "# Find the occurance of char with the string \n",
    "str2 = 'Welcome' \n",
    "\n",
    "d = {}\n",
    "for i in str2: \n",
    "    d[i] = str2.count(i)\n",
    "\n",
    "d"
   ]
  },
  {
   "cell_type": "code",
   "execution_count": 75,
   "id": "904af115-77e3-477f-9dd8-62c9d9f609e2",
   "metadata": {},
   "outputs": [
    {
     "data": {
      "text/plain": [
       "{'W': 1, 'e': 2, 'l': 1, 'c': 1, 'o': 1, 'm': 1}"
      ]
     },
     "execution_count": 75,
     "metadata": {},
     "output_type": "execute_result"
    }
   ],
   "source": [
    "{i:str2.count(i) for i in str2}"
   ]
  },
  {
   "cell_type": "code",
   "execution_count": 76,
   "id": "ec6833bb-ed60-4c07-bffb-5f123b831fe5",
   "metadata": {},
   "outputs": [
    {
     "data": {
      "text/plain": [
       "{'person1': {'name': 'John',\n",
       "  'age': 25,\n",
       "  'address': {'street': '123 Main St',\n",
       "   'city': 'Exampleville',\n",
       "   'zipcode': '12345'}},\n",
       " 'person2': {'name': 'Alice',\n",
       "  'age': 30,\n",
       "  'address': {'street': '456 Elm St',\n",
       "   'city': 'Sampletown',\n",
       "   'zipcode': '54321'}}}"
      ]
     },
     "execution_count": 76,
     "metadata": {},
     "output_type": "execute_result"
    }
   ],
   "source": [
    "nested_dict = {  \n",
    "    'person1': {\n",
    "        'name': 'John',\n",
    "        'age': 25,\n",
    "        'address': {\n",
    "            'street': '123 Main St',\n",
    "            'city': 'Exampleville',\n",
    "            'zipcode': '12345'\n",
    "        }\n",
    "    },\n",
    "    'person2': {\n",
    "        'name': 'Alice',\n",
    "        'age': 30,\n",
    "        'address': {\n",
    "            'street': '456 Elm St',\n",
    "            'city': 'Sampletown',\n",
    "            'zipcode': '54321'\n",
    "        }\n",
    "    }\n",
    "}\n",
    "\n",
    "nested_dict\n"
   ]
  },
  {
   "cell_type": "code",
   "execution_count": 79,
   "id": "21030e7e-b5e5-4cea-ab69-963ebd6cfcc2",
   "metadata": {},
   "outputs": [
    {
     "ename": "KeyError",
     "evalue": "'city'",
     "output_type": "error",
     "traceback": [
      "\u001b[1;31m---------------------------------------------------------------------------\u001b[0m",
      "\u001b[1;31mKeyError\u001b[0m                                  Traceback (most recent call last)",
      "Cell \u001b[1;32mIn[79], line 1\u001b[0m\n\u001b[1;32m----> 1\u001b[0m \u001b[43mnested_dict\u001b[49m\u001b[43m[\u001b[49m\u001b[38;5;124;43m'\u001b[39;49m\u001b[38;5;124;43mcity\u001b[39;49m\u001b[38;5;124;43m'\u001b[39;49m\u001b[43m]\u001b[49m\n",
      "\u001b[1;31mKeyError\u001b[0m: 'city'"
     ]
    }
   ],
   "source": [
    "nested_dict['city']"
   ]
  },
  {
   "cell_type": "code",
   "execution_count": 80,
   "id": "ff1da0ed-94d3-4b72-920b-6c183ba6f945",
   "metadata": {},
   "outputs": [
    {
     "data": {
      "text/plain": [
       "dict_keys(['person1', 'person2'])"
      ]
     },
     "execution_count": 80,
     "metadata": {},
     "output_type": "execute_result"
    }
   ],
   "source": [
    "nested_dict.keys()"
   ]
  },
  {
   "cell_type": "code",
   "execution_count": 82,
   "id": "e1fbf04a-5e5a-4b69-a280-68424f08191b",
   "metadata": {},
   "outputs": [
    {
     "data": {
      "text/plain": [
       "{'name': 'Alice',\n",
       " 'age': 30,\n",
       " 'address': {'street': '456 Elm St', 'city': 'Sampletown', 'zipcode': '54321'}}"
      ]
     },
     "execution_count": 82,
     "metadata": {},
     "output_type": "execute_result"
    }
   ],
   "source": [
    "nested_dict['person2']"
   ]
  },
  {
   "cell_type": "code",
   "execution_count": 87,
   "id": "d9386777-d582-4d42-a63f-3134a76a295c",
   "metadata": {},
   "outputs": [
    {
     "data": {
      "text/plain": [
       "'123 Main St'"
      ]
     },
     "execution_count": 87,
     "metadata": {},
     "output_type": "execute_result"
    }
   ],
   "source": [
    "nested_dict['person1']['address']['street']"
   ]
  },
  {
   "cell_type": "markdown",
   "id": "98e8616d-1ce4-499f-92bd-a83fe1afba34",
   "metadata": {},
   "source": [
    "# Control structures  \n",
    "* if, elif, else\n",
    "* for loop\n",
    "* while loop "
   ]
  },
  {
   "cell_type": "code",
   "execution_count": 89,
   "id": "eee3d1dc-63ef-4e95-bc62-dfb8a2d34006",
   "metadata": {},
   "outputs": [
    {
     "name": "stdout",
     "output_type": "stream",
     "text": [
      "Yes, a is a given value\n"
     ]
    }
   ],
   "source": [
    "# if \n",
    "a = 100 \n",
    "if a ==100: \n",
    "    print('Yes, a is a given value')"
   ]
  },
  {
   "cell_type": "code",
   "execution_count": 90,
   "id": "f7725786-047f-4476-9b4c-0fb299d2e49b",
   "metadata": {},
   "outputs": [],
   "source": [
    "a = 100 \n",
    "if a == 10: \n",
    "    print('Yes, a is a given value')"
   ]
  },
  {
   "cell_type": "code",
   "execution_count": 91,
   "id": "22f96a5e-7a3a-4d3a-8eea-ae7aaf95f5d3",
   "metadata": {},
   "outputs": [
    {
     "name": "stdout",
     "output_type": "stream",
     "text": [
      "A is not equal to given value\n"
     ]
    }
   ],
   "source": [
    "a = 100 \n",
    "if a == 10: \n",
    "    print('Yes, a is a given value') \n",
    "else: \n",
    "    print('A is not equal to given value')"
   ]
  },
  {
   "cell_type": "code",
   "execution_count": 96,
   "id": "9f206d2c-52a4-4658-8686-fd974f49bcf5",
   "metadata": {},
   "outputs": [
    {
     "name": "stdout",
     "output_type": "stream",
     "text": [
      "a is available\n",
      "e is available\n",
      "i is available\n"
     ]
    }
   ],
   "source": [
    "text = 'Data science'\n",
    "if 'a' in text: \n",
    "    print('a is available')\n",
    "if 'e' in text: \n",
    "    print('e is available')\n",
    "if 'u' in text: \n",
    "    print('u is available')\n",
    "isf 'i' in text: \n",
    "    print('i is available')\n",
    "if 'o' in text: \n",
    "    print('o is available')\n"
   ]
  },
  {
   "cell_type": "code",
   "execution_count": 1,
   "id": "9cefead3-a2fa-4259-badb-1739b5e55bc2",
   "metadata": {},
   "outputs": [
    {
     "name": "stdout",
     "output_type": "stream",
     "text": [
      "Enter the mark:  09\n"
     ]
    },
    {
     "name": "stdout",
     "output_type": "stream",
     "text": [
      "Sorry, try again to gert good marks\n"
     ]
    }
   ],
   "source": [
    "mark = int(input('Enter the mark: '))\n",
    "\n",
    "if mark >=90 and mark <= 100: \n",
    "    print(\"Congratulations! Your Grade is 'A'\")\n",
    "elif mark >=70 and mark < 90: \n",
    "    print('Your Grade is B')\n",
    "elif mark >=50 and mark < 70: \n",
    "    print('Your Grade is C')\n",
    "else: \n",
    "    print('Sorry, try again to get good marks')"
   ]
  },
  {
   "cell_type": "code",
   "execution_count": null,
   "id": "47dfe284-5600-4958-836b-3476c5c78257",
   "metadata": {},
   "outputs": [],
   "source": []
  },
  {
   "cell_type": "code",
   "execution_count": null,
   "id": "4086f6d0-c1b0-4f36-bf39-0376cc896eb2",
   "metadata": {},
   "outputs": [],
   "source": []
  }
 ],
 "metadata": {
  "kernelspec": {
   "display_name": "Python 3 (ipykernel)",
   "language": "python",
   "name": "python3"
  },
  "language_info": {
   "codemirror_mode": {
    "name": "ipython",
    "version": 3
   },
   "file_extension": ".py",
   "mimetype": "text/x-python",
   "name": "python",
   "nbconvert_exporter": "python",
   "pygments_lexer": "ipython3",
   "version": "3.11.4"
  },
  "widgets": {
   "application/vnd.jupyter.widget-state+json": {
    "state": {},
    "version_major": 2,
    "version_minor": 0
   }
  }
 },
 "nbformat": 4,
 "nbformat_minor": 5
}
