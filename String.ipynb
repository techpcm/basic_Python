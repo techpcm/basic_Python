{
 "cells": [
  {
   "cell_type": "markdown",
   "id": "1bfb6ebf-9fe7-45d0-b05d-56d51e3f98d9",
   "metadata": {},
   "source": [
    "# String \n",
    "* representation - '  ', \"   \", \"\"\"         \"\"\", '''        '''\n",
    "* immutable - can't change using index"
   ]
  },
  {
   "cell_type": "code",
   "execution_count": 1,
   "id": "466964f4-3c32-4f26-923d-d3832494ba36",
   "metadata": {},
   "outputs": [
    {
     "data": {
      "text/plain": [
       "('Hi welcome to data science', str)"
      ]
     },
     "execution_count": 1,
     "metadata": {},
     "output_type": "execute_result"
    }
   ],
   "source": [
    "# create a string \n",
    "str1 = 'Hi welcome to data science'\n",
    "str1, type(str1)"
   ]
  },
  {
   "cell_type": "code",
   "execution_count": 2,
   "id": "87c18c38-0968-4d07-81eb-31b20a6def75",
   "metadata": {},
   "outputs": [
    {
     "data": {
      "text/plain": [
       "('Hi welcome to data science', str)"
      ]
     },
     "execution_count": 2,
     "metadata": {},
     "output_type": "execute_result"
    }
   ],
   "source": [
    "str1 = \"Hi welcome to data science\"\n",
    "str1, type(str1)"
   ]
  },
  {
   "cell_type": "code",
   "execution_count": 3,
   "id": "519f8c89-9aa1-4a02-accf-b38655b55eeb",
   "metadata": {},
   "outputs": [
    {
     "data": {
      "text/plain": [
       "('Hi welcome to data science', str)"
      ]
     },
     "execution_count": 3,
     "metadata": {},
     "output_type": "execute_result"
    }
   ],
   "source": [
    "str1 = '''Hi welcome to data science''' \n",
    "str1, type(str1)"
   ]
  },
  {
   "cell_type": "code",
   "execution_count": 5,
   "id": "6f4e74f1-d809-4742-b99d-59af0ee8654d",
   "metadata": {},
   "outputs": [
    {
     "ename": "SyntaxError",
     "evalue": "unterminated string literal (detected at line 1) (4221525836.py, line 1)",
     "output_type": "error",
     "traceback": [
      "\u001b[1;36m  Cell \u001b[1;32mIn[5], line 1\u001b[1;36m\u001b[0m\n\u001b[1;33m    str2 = 'Hi it's me, How are you'\u001b[0m\n\u001b[1;37m                                   ^\u001b[0m\n\u001b[1;31mSyntaxError\u001b[0m\u001b[1;31m:\u001b[0m unterminated string literal (detected at line 1)\n"
     ]
    }
   ],
   "source": [
    "str2 = 'Hi it's me, How are you' \n",
    "str2"
   ]
  },
  {
   "cell_type": "code",
   "execution_count": 6,
   "id": "a05a94c3-f769-49ad-b28a-e4e4befc4da7",
   "metadata": {},
   "outputs": [
    {
     "data": {
      "text/plain": [
       "\"Hi it's me, How are you\""
      ]
     },
     "execution_count": 6,
     "metadata": {},
     "output_type": "execute_result"
    }
   ],
   "source": [
    "str2 = \"Hi it's me, How are you\"\n",
    "str2"
   ]
  },
  {
   "cell_type": "code",
   "execution_count": 7,
   "id": "4dc36e75-c172-48c7-a264-fb5710a21d0c",
   "metadata": {},
   "outputs": [
    {
     "ename": "SyntaxError",
     "evalue": "unterminated string literal (detected at line 1) (1526491051.py, line 1)",
     "output_type": "error",
     "traceback": [
      "\u001b[1;36m  Cell \u001b[1;32mIn[7], line 1\u001b[1;36m\u001b[0m\n\u001b[1;33m    str3 = \"Hi how are you?\u001b[0m\n\u001b[1;37m           ^\u001b[0m\n\u001b[1;31mSyntaxError\u001b[0m\u001b[1;31m:\u001b[0m unterminated string literal (detected at line 1)\n"
     ]
    }
   ],
   "source": [
    "str3 = \"Hi how are you? \n",
    "How is your family\"\n",
    "str3"
   ]
  },
  {
   "cell_type": "code",
   "execution_count": 8,
   "id": "0ce74ef5-ec89-4cf2-a472-3c0855dec96d",
   "metadata": {},
   "outputs": [
    {
     "data": {
      "text/plain": [
       "'Hi how are you? \\nHow is your family'"
      ]
     },
     "execution_count": 8,
     "metadata": {},
     "output_type": "execute_result"
    }
   ],
   "source": [
    "str3 = \"\"\"Hi how are you? \n",
    "How is your family\"\"\"\n",
    "str3"
   ]
  },
  {
   "cell_type": "code",
   "execution_count": 9,
   "id": "9f23a9fc-1e6f-4bf6-9c57-b6d9d21f11a6",
   "metadata": {},
   "outputs": [
    {
     "ename": "SyntaxError",
     "evalue": "unterminated triple-quoted string literal (detected at line 2) (155487382.py, line 1)",
     "output_type": "error",
     "traceback": [
      "\u001b[1;36m  Cell \u001b[1;32mIn[9], line 1\u001b[1;36m\u001b[0m\n\u001b[1;33m    str4 = \"He said, \"I have a red car\"\"\"\u001b[0m\n\u001b[1;37m                                      ^\u001b[0m\n\u001b[1;31mSyntaxError\u001b[0m\u001b[1;31m:\u001b[0m unterminated triple-quoted string literal (detected at line 2)\n"
     ]
    }
   ],
   "source": [
    "str4 = \"He said, \"I have a red car\"\"\"\n",
    "str4"
   ]
  },
  {
   "cell_type": "code",
   "execution_count": 10,
   "id": "9450626d-eae1-4aab-8f41-704606ce88c3",
   "metadata": {},
   "outputs": [
    {
     "data": {
      "text/plain": [
       "'He said, \"I have a red car\"'"
      ]
     },
     "execution_count": 10,
     "metadata": {},
     "output_type": "execute_result"
    }
   ],
   "source": [
    "str4 = 'He said, \"I have a red car\"'\n",
    "str4"
   ]
  },
  {
   "cell_type": "code",
   "execution_count": 16,
   "id": "22b48186-6402-401f-8290-bf0197be9e63",
   "metadata": {},
   "outputs": [],
   "source": [
    "# comments"
   ]
  },
  {
   "cell_type": "code",
   "execution_count": 15,
   "id": "d2c5f118-3e18-4584-866d-ac209836201d",
   "metadata": {},
   "outputs": [
    {
     "data": {
      "text/plain": [
       "'They are playing the game. What about you?, My num is 9876613213    @#'"
      ]
     },
     "execution_count": 15,
     "metadata": {},
     "output_type": "execute_result"
    }
   ],
   "source": [
    "# length\n",
    "text = 'They are playing the game. What about you?, My num is 9876613213    @#'\n",
    "text"
   ]
  },
  {
   "cell_type": "code",
   "execution_count": 16,
   "id": "037efe43-c835-49ad-b7c8-446296e1163c",
   "metadata": {},
   "outputs": [
    {
     "data": {
      "text/plain": [
       "70"
      ]
     },
     "execution_count": 16,
     "metadata": {},
     "output_type": "execute_result"
    }
   ],
   "source": [
    "len(text)"
   ]
  },
  {
   "cell_type": "code",
   "execution_count": 17,
   "id": "099a1116-1fa0-46b3-a72e-7c7510390b5e",
   "metadata": {},
   "outputs": [],
   "source": [
    "# concatenation - combine two text\n",
    "t1 = 'Hi'\n",
    "t2 = 'Welcome'"
   ]
  },
  {
   "cell_type": "code",
   "execution_count": 18,
   "id": "df37f0b3-f74b-4265-b968-94d4a5246393",
   "metadata": {},
   "outputs": [
    {
     "data": {
      "text/plain": [
       "'HiWelcome'"
      ]
     },
     "execution_count": 18,
     "metadata": {},
     "output_type": "execute_result"
    }
   ],
   "source": [
    "t1 + t2"
   ]
  },
  {
   "cell_type": "code",
   "execution_count": 19,
   "id": "74ffc478-a0d6-47a0-9f5e-3ee9ec996769",
   "metadata": {},
   "outputs": [
    {
     "data": {
      "text/plain": [
       "'Hi_Welcome'"
      ]
     },
     "execution_count": 19,
     "metadata": {},
     "output_type": "execute_result"
    }
   ],
   "source": [
    "t1 +'_'+t2"
   ]
  },
  {
   "cell_type": "code",
   "execution_count": 21,
   "id": "d74e3edb-d1a2-4009-9595-a4ea911175a6",
   "metadata": {},
   "outputs": [],
   "source": [
    "val = 56 \n",
    "t1 = ' is the value'"
   ]
  },
  {
   "cell_type": "code",
   "execution_count": 22,
   "id": "621ab478-b07b-49eb-938e-afe85f8dabb9",
   "metadata": {},
   "outputs": [
    {
     "ename": "TypeError",
     "evalue": "unsupported operand type(s) for +: 'int' and 'str'",
     "output_type": "error",
     "traceback": [
      "\u001b[1;31m---------------------------------------------------------------------------\u001b[0m",
      "\u001b[1;31mTypeError\u001b[0m                                 Traceback (most recent call last)",
      "Cell \u001b[1;32mIn[22], line 1\u001b[0m\n\u001b[1;32m----> 1\u001b[0m \u001b[43mval\u001b[49m\u001b[43m \u001b[49m\u001b[38;5;241;43m+\u001b[39;49m\u001b[43m \u001b[49m\u001b[43mt1\u001b[49m\n",
      "\u001b[1;31mTypeError\u001b[0m: unsupported operand type(s) for +: 'int' and 'str'"
     ]
    }
   ],
   "source": [
    "val + t1"
   ]
  },
  {
   "cell_type": "code",
   "execution_count": 24,
   "id": "38d1eb20-24c1-470f-98bf-b64c9db4470b",
   "metadata": {},
   "outputs": [
    {
     "data": {
      "text/plain": [
       "'56 is the value'"
      ]
     },
     "execution_count": 24,
     "metadata": {},
     "output_type": "execute_result"
    }
   ],
   "source": [
    "# typecasting - convert one data type to the another datatype\n",
    "str(val) + t1"
   ]
  },
  {
   "cell_type": "code",
   "execution_count": 25,
   "id": "15832156-ff07-40c1-8633-7e92437128ae",
   "metadata": {},
   "outputs": [
    {
     "data": {
      "text/plain": [
       "'56 is the value'"
      ]
     },
     "execution_count": 25,
     "metadata": {},
     "output_type": "execute_result"
    }
   ],
   "source": [
    "# format string \n",
    "f'{val}{t1}'"
   ]
  },
  {
   "cell_type": "code",
   "execution_count": 26,
   "id": "8c70db9f-0a95-40c5-be23-ddd8e40f387f",
   "metadata": {},
   "outputs": [
    {
     "data": {
      "text/plain": [
       "'56 is the given value'"
      ]
     },
     "execution_count": 26,
     "metadata": {},
     "output_type": "execute_result"
    }
   ],
   "source": [
    "f'{val} is the given value'"
   ]
  },
  {
   "cell_type": "code",
   "execution_count": 28,
   "id": "29ffb913-8413-4c33-b33e-8535e80eb49f",
   "metadata": {},
   "outputs": [
    {
     "data": {
      "text/plain": [
       "' is the value is the given value'"
      ]
     },
     "execution_count": 28,
     "metadata": {},
     "output_type": "execute_result"
    }
   ],
   "source": [
    "f'{t1} is the given value'"
   ]
  },
  {
   "cell_type": "code",
   "execution_count": 29,
   "id": "d184b051-f210-4c41-91ca-5e80cf775b30",
   "metadata": {},
   "outputs": [
    {
     "data": {
      "text/plain": [
       "'56 is the value'"
      ]
     },
     "execution_count": 29,
     "metadata": {},
     "output_type": "execute_result"
    }
   ],
   "source": [
    "'{}{}'.format(val, t1)"
   ]
  },
  {
   "cell_type": "markdown",
   "id": "1a4a0908-787c-43a2-8bad-7e38fd803456",
   "metadata": {},
   "source": [
    "# index \n",
    "<img src = 'https://media.geeksforgeeks.org/wp-content/uploads/20191220092949/slice.jpg'>"
   ]
  },
  {
   "cell_type": "code",
   "execution_count": 30,
   "id": "1995f736-f8e3-41c9-a3ec-0131896e978a",
   "metadata": {},
   "outputs": [
    {
     "data": {
      "text/plain": [
       "'Hello world'"
      ]
     },
     "execution_count": 30,
     "metadata": {},
     "output_type": "execute_result"
    }
   ],
   "source": [
    "word = 'Hello world'\n",
    "word"
   ]
  },
  {
   "cell_type": "code",
   "execution_count": 32,
   "id": "a0d586c8-b885-435b-8bee-12e7e0787bd1",
   "metadata": {},
   "outputs": [
    {
     "data": {
      "text/plain": [
       "'o'"
      ]
     },
     "execution_count": 32,
     "metadata": {},
     "output_type": "execute_result"
    }
   ],
   "source": [
    "word[4]"
   ]
  },
  {
   "cell_type": "code",
   "execution_count": 39,
   "id": "c9f645c7-5e84-444b-b1ef-a3584e408d8d",
   "metadata": {},
   "outputs": [
    {
     "data": {
      "text/plain": [
       "' '"
      ]
     },
     "execution_count": 39,
     "metadata": {},
     "output_type": "execute_result"
    }
   ],
   "source": [
    "word[5]"
   ]
  },
  {
   "cell_type": "code",
   "execution_count": 33,
   "id": "47aaa04e-4ec8-4046-bebc-48351f44a4cb",
   "metadata": {},
   "outputs": [
    {
     "data": {
      "text/plain": [
       "'l'"
      ]
     },
     "execution_count": 33,
     "metadata": {},
     "output_type": "execute_result"
    }
   ],
   "source": [
    "word[-2]"
   ]
  },
  {
   "cell_type": "code",
   "execution_count": 34,
   "id": "df910f93-86e0-49b7-9c49-1e68fb3ba26d",
   "metadata": {},
   "outputs": [
    {
     "data": {
      "text/plain": [
       "'Hello'"
      ]
     },
     "execution_count": 34,
     "metadata": {},
     "output_type": "execute_result"
    }
   ],
   "source": [
    "# slicing\n",
    "word[0:5] # start : end (n-1)"
   ]
  },
  {
   "cell_type": "code",
   "execution_count": 35,
   "id": "af1a8fa4-2b27-4fcc-921f-4ee9984bdc8f",
   "metadata": {},
   "outputs": [
    {
     "data": {
      "text/plain": [
       "'Hell'"
      ]
     },
     "execution_count": 35,
     "metadata": {},
     "output_type": "execute_result"
    }
   ],
   "source": [
    "word[0:4]"
   ]
  },
  {
   "cell_type": "code",
   "execution_count": 43,
   "id": "eeef552e-1ef3-4fb8-97d1-91d9a3cd5241",
   "metadata": {},
   "outputs": [
    {
     "data": {
      "text/plain": [
       "'Hello'"
      ]
     },
     "execution_count": 43,
     "metadata": {},
     "output_type": "execute_result"
    }
   ],
   "source": [
    "word[:5]"
   ]
  },
  {
   "cell_type": "code",
   "execution_count": 36,
   "id": "c3d7785d-b753-4cff-87e7-89e881d5d86a",
   "metadata": {},
   "outputs": [
    {
     "data": {
      "text/plain": [
       "'lo wo'"
      ]
     },
     "execution_count": 36,
     "metadata": {},
     "output_type": "execute_result"
    }
   ],
   "source": [
    "word[3:8]"
   ]
  },
  {
   "cell_type": "markdown",
   "id": "ba99223e-814f-4163-aad6-0132742c00e8",
   "metadata": {},
   "source": [
    "<center>\n",
    "<img src ='https://miro.medium.com/max/1400/1*6xXLjk-Jq23LRNBTDGK3Uw.png' width=600>\n",
    "</center>"
   ]
  },
  {
   "cell_type": "code",
   "execution_count": 39,
   "id": "5f26e729-03c6-4c60-8345-59b3639023ce",
   "metadata": {},
   "outputs": [
    {
     "data": {
      "text/plain": [
       "'world'"
      ]
     },
     "execution_count": 39,
     "metadata": {},
     "output_type": "execute_result"
    }
   ],
   "source": [
    "word[6:18]"
   ]
  },
  {
   "cell_type": "code",
   "execution_count": 40,
   "id": "b94f34b6-9bf5-40b0-932e-851a493d75fd",
   "metadata": {},
   "outputs": [
    {
     "data": {
      "text/plain": [
       "' world'"
      ]
     },
     "execution_count": 40,
     "metadata": {},
     "output_type": "execute_result"
    }
   ],
   "source": [
    "word[-6:] # -1-1=-2"
   ]
  },
  {
   "cell_type": "code",
   "execution_count": 47,
   "id": "12a554d6-53fb-4f9b-bcd6-b93da0bbaed4",
   "metadata": {},
   "outputs": [
    {
     "data": {
      "text/plain": [
       "'llo wo'"
      ]
     },
     "execution_count": 47,
     "metadata": {},
     "output_type": "execute_result"
    }
   ],
   "source": [
    "word[2:8]"
   ]
  },
  {
   "cell_type": "code",
   "execution_count": 48,
   "id": "1ea7a7f4-dfc0-4ebb-93b6-2067e0f562e7",
   "metadata": {},
   "outputs": [
    {
     "data": {
      "text/plain": [
       "'Hello world'"
      ]
     },
     "execution_count": 48,
     "metadata": {},
     "output_type": "execute_result"
    }
   ],
   "source": [
    "# immutable \n",
    "word"
   ]
  },
  {
   "cell_type": "code",
   "execution_count": 41,
   "id": "71dfbcac-fa1a-4b63-ade2-d640bbb673b8",
   "metadata": {},
   "outputs": [
    {
     "ename": "TypeError",
     "evalue": "'str' object does not support item assignment",
     "output_type": "error",
     "traceback": [
      "\u001b[1;31m---------------------------------------------------------------------------\u001b[0m",
      "\u001b[1;31mTypeError\u001b[0m                                 Traceback (most recent call last)",
      "Cell \u001b[1;32mIn[41], line 1\u001b[0m\n\u001b[1;32m----> 1\u001b[0m \u001b[43mword\u001b[49m\u001b[43m[\u001b[49m\u001b[38;5;241;43m4\u001b[39;49m\u001b[43m]\u001b[49m \u001b[38;5;241m=\u001b[39m \u001b[38;5;124m'\u001b[39m\u001b[38;5;124ms\u001b[39m\u001b[38;5;124m'\u001b[39m \u001b[38;5;66;03m# immutable\u001b[39;00m\n",
      "\u001b[1;31mTypeError\u001b[0m: 'str' object does not support item assignment"
     ]
    }
   ],
   "source": [
    "word[4] = 's' # immutable"
   ]
  },
  {
   "cell_type": "code",
   "execution_count": 42,
   "id": "069001d4-34e7-42dd-a32a-865412f89346",
   "metadata": {},
   "outputs": [
    {
     "data": {
      "text/plain": [
       "'Hello world'"
      ]
     },
     "execution_count": 42,
     "metadata": {},
     "output_type": "execute_result"
    }
   ],
   "source": [
    "word"
   ]
  },
  {
   "cell_type": "code",
   "execution_count": 43,
   "id": "46e5bd8c-a004-48d7-b37e-0082555f8580",
   "metadata": {},
   "outputs": [
    {
     "data": {
      "text/plain": [
       "'HELLO WORLD'"
      ]
     },
     "execution_count": 43,
     "metadata": {},
     "output_type": "execute_result"
    }
   ],
   "source": [
    "word.upper()"
   ]
  },
  {
   "cell_type": "code",
   "execution_count": 44,
   "id": "220c9543-3eb2-46b5-98c7-5ddf6d3b5786",
   "metadata": {},
   "outputs": [
    {
     "data": {
      "text/plain": [
       "'hello world'"
      ]
     },
     "execution_count": 44,
     "metadata": {},
     "output_type": "execute_result"
    }
   ],
   "source": [
    "word.lower()"
   ]
  },
  {
   "cell_type": "code",
   "execution_count": 45,
   "id": "aa784a6c-bfe0-44e2-874c-8ef92f799a0b",
   "metadata": {},
   "outputs": [
    {
     "data": {
      "text/plain": [
       "'Python Sql'"
      ]
     },
     "execution_count": 45,
     "metadata": {},
     "output_type": "execute_result"
    }
   ],
   "source": [
    "'Python sql'.title()"
   ]
  },
  {
   "cell_type": "code",
   "execution_count": 46,
   "id": "3a62cbd9-3446-4da2-8f8a-3ff8eed09955",
   "metadata": {},
   "outputs": [
    {
     "data": {
      "text/plain": [
       "'Hello World'"
      ]
     },
     "execution_count": 46,
     "metadata": {},
     "output_type": "execute_result"
    }
   ],
   "source": [
    "word.title()"
   ]
  },
  {
   "cell_type": "code",
   "execution_count": 47,
   "id": "02859197-c149-4641-b18d-1ab06ddaedb2",
   "metadata": {},
   "outputs": [
    {
     "data": {
      "text/plain": [
       "'Hello world'"
      ]
     },
     "execution_count": 47,
     "metadata": {},
     "output_type": "execute_result"
    }
   ],
   "source": [
    "word.capitalize()"
   ]
  },
  {
   "cell_type": "code",
   "execution_count": 48,
   "id": "698f1b4d-1dad-4213-9510-75a573e26719",
   "metadata": {},
   "outputs": [
    {
     "data": {
      "text/plain": [
       "'Python. machine learning'"
      ]
     },
     "execution_count": 48,
     "metadata": {},
     "output_type": "execute_result"
    }
   ],
   "source": [
    "'Python. Machine Learning'.capitalize()"
   ]
  },
  {
   "cell_type": "code",
   "execution_count": 49,
   "id": "dcd97bfc-a3d5-4b6f-a213-a225942f28b1",
   "metadata": {},
   "outputs": [
    {
     "data": {
      "text/plain": [
       "'   data Science  '"
      ]
     },
     "execution_count": 49,
     "metadata": {},
     "output_type": "execute_result"
    }
   ],
   "source": [
    "# strip -- remove white space\n",
    "text1 = '   data Science  '\n",
    "text1"
   ]
  },
  {
   "cell_type": "code",
   "execution_count": 50,
   "id": "58227e5c-1e4a-4712-b29f-57e1b2dbf6f8",
   "metadata": {},
   "outputs": [
    {
     "data": {
      "text/plain": [
       "'data Science'"
      ]
     },
     "execution_count": 50,
     "metadata": {},
     "output_type": "execute_result"
    }
   ],
   "source": [
    "text1.strip()"
   ]
  },
  {
   "cell_type": "code",
   "execution_count": 63,
   "id": "af1335c8-2f68-4c69-b493-bf5583fc8a06",
   "metadata": {},
   "outputs": [
    {
     "data": {
      "text/plain": [
       "'data Science  '"
      ]
     },
     "execution_count": 63,
     "metadata": {},
     "output_type": "execute_result"
    }
   ],
   "source": [
    "text1.lstrip()"
   ]
  },
  {
   "cell_type": "code",
   "execution_count": 51,
   "id": "4523bf9e-004a-46bd-ba4c-f16067b20896",
   "metadata": {},
   "outputs": [
    {
     "data": {
      "text/plain": [
       "'   data Science'"
      ]
     },
     "execution_count": 51,
     "metadata": {},
     "output_type": "execute_result"
    }
   ],
   "source": [
    "text1.rstrip()"
   ]
  },
  {
   "cell_type": "code",
   "execution_count": 53,
   "id": "9922e0de-69d1-4fca-9319-fdcb81472fb6",
   "metadata": {},
   "outputs": [
    {
     "data": {
      "text/plain": [
       "'data'"
      ]
     },
     "execution_count": 53,
     "metadata": {},
     "output_type": "execute_result"
    }
   ],
   "source": [
    "'******data'.strip('*')"
   ]
  },
  {
   "cell_type": "code",
   "execution_count": 57,
   "id": "7e4f4a96-cce6-437b-908f-b1f3cfb7cd6e",
   "metadata": {},
   "outputs": [
    {
     "data": {
      "text/plain": [
       "'******dat'"
      ]
     },
     "execution_count": 57,
     "metadata": {},
     "output_type": "execute_result"
    }
   ],
   "source": [
    "'******dataaaa'.strip('a')"
   ]
  },
  {
   "cell_type": "code",
   "execution_count": 58,
   "id": "fb25872f-b461-464a-a982-a30c0f81c146",
   "metadata": {},
   "outputs": [
    {
     "data": {
      "text/plain": [
       "'Hi, have, a, good, day'"
      ]
     },
     "execution_count": 58,
     "metadata": {},
     "output_type": "execute_result"
    }
   ],
   "source": [
    "# join \n",
    "text = 'Hi, have, a, good, day'\n",
    "text"
   ]
  },
  {
   "cell_type": "code",
   "execution_count": 59,
   "id": "68823361-c4fb-41d6-bf4d-542b3a3fbd5e",
   "metadata": {},
   "outputs": [
    {
     "data": {
      "text/plain": [
       "['Hi', ' have', ' a', ' good', ' day']"
      ]
     },
     "execution_count": 59,
     "metadata": {},
     "output_type": "execute_result"
    }
   ],
   "source": [
    "text.split(',')"
   ]
  },
  {
   "cell_type": "code",
   "execution_count": 61,
   "id": "66f449c7-0d10-4cab-b2a0-4c804262d9b8",
   "metadata": {},
   "outputs": [
    {
     "data": {
      "text/plain": [
       "'Hi/ have/ a/ good/ day'"
      ]
     },
     "execution_count": 61,
     "metadata": {},
     "output_type": "execute_result"
    }
   ],
   "source": [
    "'/'.join(text.split(','))"
   ]
  },
  {
   "cell_type": "code",
   "execution_count": 63,
   "id": "90a76aa9-464e-420c-99ee-8fee49cb92bb",
   "metadata": {},
   "outputs": [
    {
     "data": {
      "text/plain": [
       "'Banana, mango, apple, banana, mango, orange, grapes'"
      ]
     },
     "execution_count": 63,
     "metadata": {},
     "output_type": "execute_result"
    }
   ],
   "source": [
    "# count \n",
    "fruits = 'Banana, mango, apple, banana, mango, orange, grapes'\n",
    "fruits"
   ]
  },
  {
   "cell_type": "code",
   "execution_count": 64,
   "id": "80e5e377-47c1-40f0-8180-1c048387de4f",
   "metadata": {},
   "outputs": [
    {
     "data": {
      "text/plain": [
       "2"
      ]
     },
     "execution_count": 64,
     "metadata": {},
     "output_type": "execute_result"
    }
   ],
   "source": [
    "fruits.count('mango')"
   ]
  },
  {
   "cell_type": "code",
   "execution_count": 70,
   "id": "6d191221-ae38-4ea9-8eea-f6574cdf6f49",
   "metadata": {},
   "outputs": [
    {
     "data": {
      "text/plain": [
       "1"
      ]
     },
     "execution_count": 70,
     "metadata": {},
     "output_type": "execute_result"
    }
   ],
   "source": [
    "fruits.count('Banana')"
   ]
  },
  {
   "cell_type": "code",
   "execution_count": 66,
   "id": "7ba0affe-ad4f-4ab5-8b40-6aa727622cfd",
   "metadata": {},
   "outputs": [
    {
     "data": {
      "text/plain": [
       "3"
      ]
     },
     "execution_count": 66,
     "metadata": {},
     "output_type": "execute_result"
    }
   ],
   "source": [
    "fruits.count('o')"
   ]
  },
  {
   "cell_type": "code",
   "execution_count": 71,
   "id": "e8e20ff1-d267-4241-adf5-2c8afae67544",
   "metadata": {},
   "outputs": [
    {
     "data": {
      "text/plain": [
       "6"
      ]
     },
     "execution_count": 71,
     "metadata": {},
     "output_type": "execute_result"
    }
   ],
   "source": [
    "fruits.count(',')"
   ]
  },
  {
   "cell_type": "code",
   "execution_count": 72,
   "id": "eec71c77-e93f-4896-8802-f229360bfb15",
   "metadata": {},
   "outputs": [
    {
     "data": {
      "text/plain": [
       "0"
      ]
     },
     "execution_count": 72,
     "metadata": {},
     "output_type": "execute_result"
    }
   ],
   "source": [
    "fruits.count('_')"
   ]
  },
  {
   "cell_type": "code",
   "execution_count": 73,
   "id": "cf1c12b1-1bc2-41a8-9278-302f79e11116",
   "metadata": {},
   "outputs": [
    {
     "data": {
      "text/plain": [
       "'Hello world'"
      ]
     },
     "execution_count": 73,
     "metadata": {},
     "output_type": "execute_result"
    }
   ],
   "source": [
    "# replace \n",
    "word"
   ]
  },
  {
   "cell_type": "code",
   "execution_count": 74,
   "id": "1a76fc89-9b9a-47bd-801d-163e919e94d7",
   "metadata": {},
   "outputs": [
    {
     "data": {
      "text/plain": [
       "'Hells wsrld'"
      ]
     },
     "execution_count": 74,
     "metadata": {},
     "output_type": "execute_result"
    }
   ],
   "source": [
    "word.replace('o','s')"
   ]
  },
  {
   "cell_type": "code",
   "execution_count": 75,
   "id": "8a988baf-576d-446f-bc52-d5c3b1bf874c",
   "metadata": {},
   "outputs": [
    {
     "data": {
      "text/plain": [
       "'Hells world'"
      ]
     },
     "execution_count": 75,
     "metadata": {},
     "output_type": "execute_result"
    }
   ],
   "source": [
    "word.replace('o','s',1)"
   ]
  },
  {
   "cell_type": "code",
   "execution_count": 76,
   "id": "cc24774f-b246-4fb3-a6bc-7cbf06076910",
   "metadata": {},
   "outputs": [
    {
     "data": {
      "text/plain": [
       "2"
      ]
     },
     "execution_count": 76,
     "metadata": {},
     "output_type": "execute_result"
    }
   ],
   "source": [
    "# find \n",
    "word.find('l')"
   ]
  },
  {
   "cell_type": "code",
   "execution_count": 77,
   "id": "837dc05b-a26d-4941-af01-72f2126b6db2",
   "metadata": {},
   "outputs": [
    {
     "data": {
      "text/plain": [
       "-1"
      ]
     },
     "execution_count": 77,
     "metadata": {},
     "output_type": "execute_result"
    }
   ],
   "source": [
    "word.find('z')"
   ]
  },
  {
   "cell_type": "code",
   "execution_count": 78,
   "id": "4e0be058-6515-44be-b0c2-d39689357887",
   "metadata": {},
   "outputs": [
    {
     "data": {
      "text/plain": [
       "9"
      ]
     },
     "execution_count": 78,
     "metadata": {},
     "output_type": "execute_result"
    }
   ],
   "source": [
    "word.rfind('l')"
   ]
  },
  {
   "cell_type": "code",
   "execution_count": 79,
   "id": "9ce3c284-83cc-434e-914b-02072c57ebe1",
   "metadata": {},
   "outputs": [
    {
     "data": {
      "text/plain": [
       "2"
      ]
     },
     "execution_count": 79,
     "metadata": {},
     "output_type": "execute_result"
    }
   ],
   "source": [
    "# index \n",
    "word.index('l')"
   ]
  },
  {
   "cell_type": "code",
   "execution_count": 80,
   "id": "3359731b-8aad-4046-96fa-38d19a9c4c76",
   "metadata": {},
   "outputs": [
    {
     "data": {
      "text/plain": [
       "9"
      ]
     },
     "execution_count": 80,
     "metadata": {},
     "output_type": "execute_result"
    }
   ],
   "source": [
    "word.rindex('l')"
   ]
  },
  {
   "cell_type": "code",
   "execution_count": 81,
   "id": "206d6aef-533b-45f8-9848-54d9afff150e",
   "metadata": {},
   "outputs": [
    {
     "ename": "ValueError",
     "evalue": "substring not found",
     "output_type": "error",
     "traceback": [
      "\u001b[1;31m---------------------------------------------------------------------------\u001b[0m",
      "\u001b[1;31mValueError\u001b[0m                                Traceback (most recent call last)",
      "Cell \u001b[1;32mIn[81], line 1\u001b[0m\n\u001b[1;32m----> 1\u001b[0m \u001b[43mword\u001b[49m\u001b[38;5;241;43m.\u001b[39;49m\u001b[43mindex\u001b[49m\u001b[43m(\u001b[49m\u001b[38;5;124;43m'\u001b[39;49m\u001b[38;5;124;43mz\u001b[39;49m\u001b[38;5;124;43m'\u001b[39;49m\u001b[43m)\u001b[49m\n",
      "\u001b[1;31mValueError\u001b[0m: substring not found"
     ]
    }
   ],
   "source": [
    "word.index('z')"
   ]
  },
  {
   "cell_type": "code",
   "execution_count": 82,
   "id": "93e44c2f-6eb7-4098-bda3-3b89b2a1718d",
   "metadata": {},
   "outputs": [
    {
     "data": {
      "text/plain": [
       "'Hi, have, a, good, day'"
      ]
     },
     "execution_count": 82,
     "metadata": {},
     "output_type": "execute_result"
    }
   ],
   "source": [
    "text"
   ]
  },
  {
   "cell_type": "code",
   "execution_count": 83,
   "id": "9cd0912f-d217-4fba-8560-9126f2bd266b",
   "metadata": {},
   "outputs": [
    {
     "data": {
      "text/plain": [
       "True"
      ]
     },
     "execution_count": 83,
     "metadata": {},
     "output_type": "execute_result"
    }
   ],
   "source": [
    "text.startswith('H')"
   ]
  },
  {
   "cell_type": "code",
   "execution_count": 84,
   "id": "36507def-a25e-44d7-98ea-ab5c027630e8",
   "metadata": {},
   "outputs": [
    {
     "data": {
      "text/plain": [
       "True"
      ]
     },
     "execution_count": 84,
     "metadata": {},
     "output_type": "execute_result"
    }
   ],
   "source": [
    "text.startswith('Hi')"
   ]
  },
  {
   "cell_type": "code",
   "execution_count": 87,
   "id": "12fc0f51-35b4-41d5-8999-288232956789",
   "metadata": {},
   "outputs": [
    {
     "data": {
      "text/plain": [
       "False"
      ]
     },
     "execution_count": 87,
     "metadata": {},
     "output_type": "execute_result"
    }
   ],
   "source": [
    "text.startswith('Hi ')"
   ]
  },
  {
   "cell_type": "code",
   "execution_count": 88,
   "id": "190c3f63-b326-42c3-9615-370d06f9b63f",
   "metadata": {},
   "outputs": [
    {
     "data": {
      "text/plain": [
       "True"
      ]
     },
     "execution_count": 88,
     "metadata": {},
     "output_type": "execute_result"
    }
   ],
   "source": [
    "text.endswith('y')"
   ]
  },
  {
   "cell_type": "code",
   "execution_count": 89,
   "id": "e217be01-2499-4cdb-8592-6f1c5a4e0229",
   "metadata": {},
   "outputs": [
    {
     "data": {
      "text/plain": [
       "False"
      ]
     },
     "execution_count": 89,
     "metadata": {},
     "output_type": "execute_result"
    }
   ],
   "source": [
    "text.endswith('d')"
   ]
  },
  {
   "cell_type": "code",
   "execution_count": 90,
   "id": "264e1b1c-5eaf-47d0-b4d0-e7afdc9ad1b0",
   "metadata": {},
   "outputs": [
    {
     "data": {
      "text/plain": [
       "True"
      ]
     },
     "execution_count": 90,
     "metadata": {},
     "output_type": "execute_result"
    }
   ],
   "source": [
    "t1 = 'HI'\n",
    "t1.isupper()"
   ]
  },
  {
   "cell_type": "code",
   "execution_count": 92,
   "id": "9485281a-f33e-475f-98fc-1c316f8fed2e",
   "metadata": {},
   "outputs": [
    {
     "data": {
      "text/plain": [
       "False"
      ]
     },
     "execution_count": 92,
     "metadata": {},
     "output_type": "execute_result"
    }
   ],
   "source": [
    "t1 = 'jkhj9876'\n",
    "t1.isalpha()"
   ]
  },
  {
   "cell_type": "code",
   "execution_count": 93,
   "id": "d9cb0adb-ef6f-431e-9576-244cc6a0a479",
   "metadata": {},
   "outputs": [
    {
     "data": {
      "text/plain": [
       "False"
      ]
     },
     "execution_count": 93,
     "metadata": {},
     "output_type": "execute_result"
    }
   ],
   "source": [
    "t1.isnumeric()"
   ]
  },
  {
   "cell_type": "code",
   "execution_count": 94,
   "id": "c9fc1230-a7d7-44e2-876f-99669fd61ef4",
   "metadata": {},
   "outputs": [
    {
     "data": {
      "text/plain": [
       "True"
      ]
     },
     "execution_count": 94,
     "metadata": {},
     "output_type": "execute_result"
    }
   ],
   "source": [
    "t1.isalnum()"
   ]
  },
  {
   "cell_type": "code",
   "execution_count": 95,
   "id": "6d09e2da-1c7c-41f7-a8bf-4cfcdabb4031",
   "metadata": {},
   "outputs": [
    {
     "data": {
      "text/plain": [
       "False"
      ]
     },
     "execution_count": 95,
     "metadata": {},
     "output_type": "execute_result"
    }
   ],
   "source": [
    "t2 = '0878678'\n",
    "t2.isalpha()"
   ]
  },
  {
   "cell_type": "code",
   "execution_count": 96,
   "id": "32564ba6-0103-4088-9a03-735d9b313053",
   "metadata": {},
   "outputs": [
    {
     "data": {
      "text/plain": [
       "True"
      ]
     },
     "execution_count": 96,
     "metadata": {},
     "output_type": "execute_result"
    }
   ],
   "source": [
    "t2.isalnum()"
   ]
  },
  {
   "cell_type": "code",
   "execution_count": 97,
   "id": "7b3b0df9-170e-4984-8da0-fece68e670e9",
   "metadata": {},
   "outputs": [
    {
     "data": {
      "text/plain": [
       "True"
      ]
     },
     "execution_count": 97,
     "metadata": {},
     "output_type": "execute_result"
    }
   ],
   "source": [
    "t2.isnumeric()"
   ]
  },
  {
   "cell_type": "code",
   "execution_count": null,
   "id": "5613c707-2bc0-4529-a45b-a8b1127b3b26",
   "metadata": {},
   "outputs": [],
   "source": []
  }
 ],
 "metadata": {
  "kernelspec": {
   "display_name": "Python 3 (ipykernel)",
   "language": "python",
   "name": "python3"
  },
  "language_info": {
   "codemirror_mode": {
    "name": "ipython",
    "version": 3
   },
   "file_extension": ".py",
   "mimetype": "text/x-python",
   "name": "python",
   "nbconvert_exporter": "python",
   "pygments_lexer": "ipython3",
   "version": "3.11.4"
  },
  "widgets": {
   "application/vnd.jupyter.widget-state+json": {
    "state": {},
    "version_major": 2,
    "version_minor": 0
   }
  }
 },
 "nbformat": 4,
 "nbformat_minor": 5
}
