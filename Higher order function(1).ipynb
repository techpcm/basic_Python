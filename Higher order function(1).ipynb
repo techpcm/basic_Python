{
 "cells": [
  {
   "cell_type": "markdown",
   "id": "fd48bcc9-7cba-445a-b73f-21e809a423f0",
   "metadata": {},
   "source": [
    "# Higher order function\n",
    "- lambda function\n",
    "- map \n",
    "- filter \n",
    "- reduce"
   ]
  },
  {
   "cell_type": "markdown",
   "id": "6c1b9e8d-3604-4e04-9bfd-936bea48fa2e",
   "metadata": {},
   "source": [
    "# Lambda Function:\n",
    "* A lambda function is an anonymous function (function without a name).\n",
    "* Lambda functions can have any number of arguments but only one expression. The expression is evaluated and returned.\n",
    "* We use lambda functions when we require a nameless function for a short period of time\n",
    "\n",
    "<img src = 'https://miro.medium.com/v2/resize:fit:1200/0*4eRr7IZ3sP2ZAE8H.png' width = 500>"
   ]
  },
  {
   "cell_type": "code",
   "execution_count": 5,
   "id": "63858cdc-bb7a-4f6a-a564-773d624dedeb",
   "metadata": {},
   "outputs": [
    {
     "data": {
      "text/plain": [
       "4"
      ]
     },
     "execution_count": 5,
     "metadata": {},
     "output_type": "execute_result"
    }
   ],
   "source": [
    "# find the square number \n",
    "f = lambda a: a**2\n",
    "f(2)"
   ]
  },
  {
   "cell_type": "code",
   "execution_count": 6,
   "id": "64c13f22-56d3-4518-ad7a-43748394e0ba",
   "metadata": {},
   "outputs": [
    {
     "data": {
      "text/plain": [
       "2500"
      ]
     },
     "execution_count": 6,
     "metadata": {},
     "output_type": "execute_result"
    }
   ],
   "source": [
    "f(50)"
   ]
  },
  {
   "cell_type": "code",
   "execution_count": 7,
   "id": "9e269173-f8a7-4b52-bd8d-b61a9b07944c",
   "metadata": {},
   "outputs": [
    {
     "data": {
      "text/plain": [
       "170"
      ]
     },
     "execution_count": 7,
     "metadata": {},
     "output_type": "execute_result"
    }
   ],
   "source": [
    "# add the number with 100 \n",
    "add = lambda a : a+100\n",
    "add(70)"
   ]
  },
  {
   "cell_type": "code",
   "execution_count": 8,
   "id": "30b20423-31f0-477a-bc57-7e645b96e0bf",
   "metadata": {},
   "outputs": [
    {
     "ename": "TypeError",
     "evalue": "<lambda>() takes 1 positional argument but 2 were given",
     "output_type": "error",
     "traceback": [
      "\u001b[1;31m---------------------------------------------------------------------------\u001b[0m",
      "\u001b[1;31mTypeError\u001b[0m                                 Traceback (most recent call last)",
      "Cell \u001b[1;32mIn[8], line 1\u001b[0m\n\u001b[1;32m----> 1\u001b[0m add(\u001b[38;5;241m40\u001b[39m, \u001b[38;5;241m30\u001b[39m)\n",
      "\u001b[1;31mTypeError\u001b[0m: <lambda>() takes 1 positional argument but 2 were given"
     ]
    }
   ],
   "source": [
    "add(40, 30)"
   ]
  },
  {
   "cell_type": "code",
   "execution_count": 12,
   "id": "3335a411-b9cc-4522-a57e-e0511c0f7d41",
   "metadata": {},
   "outputs": [
    {
     "data": {
      "text/plain": [
       "90"
      ]
     },
     "execution_count": 12,
     "metadata": {},
     "output_type": "execute_result"
    }
   ],
   "source": [
    "# using argument \n",
    "res = lambda *a:sum(a)\n",
    "res(40,50)"
   ]
  },
  {
   "cell_type": "code",
   "execution_count": 13,
   "id": "33179414-2494-4692-b728-93d201da1b28",
   "metadata": {},
   "outputs": [
    {
     "data": {
      "text/plain": [
       "130"
      ]
     },
     "execution_count": 13,
     "metadata": {},
     "output_type": "execute_result"
    }
   ],
   "source": [
    "res(80, 30, 20)"
   ]
  },
  {
   "cell_type": "code",
   "execution_count": 14,
   "id": "5527c5f4-4b3f-4af2-89dc-5656bc510d08",
   "metadata": {},
   "outputs": [],
   "source": [
    "# using keyword \n",
    "res = lambda **a: sum(a.values())"
   ]
  },
  {
   "cell_type": "code",
   "execution_count": 16,
   "id": "ce598e8a-e2db-4920-a397-ab80a8121c64",
   "metadata": {},
   "outputs": [
    {
     "data": {
      "text/plain": [
       "60"
      ]
     },
     "execution_count": 16,
     "metadata": {},
     "output_type": "execute_result"
    }
   ],
   "source": [
    "res(a=20, b=40)"
   ]
  },
  {
   "cell_type": "code",
   "execution_count": 17,
   "id": "9c2b00ea-08dc-47df-b7b0-298ff23331b9",
   "metadata": {},
   "outputs": [
    {
     "data": {
      "text/plain": [
       "[6, 7, 8, 9]"
      ]
     },
     "execution_count": 17,
     "metadata": {},
     "output_type": "execute_result"
    }
   ],
   "source": [
    "### map \n",
    "# synatx: map(function, iteration)\n",
    "## multiply by 5 \n",
    "l1 = [6, 7, 8, 9]\n",
    "l1"
   ]
  },
  {
   "cell_type": "code",
   "execution_count": 18,
   "id": "9b57ede5-bda8-4734-ae87-0ce06214c02e",
   "metadata": {},
   "outputs": [
    {
     "data": {
      "text/plain": [
       "[6, 7, 8, 9, 6, 7, 8, 9, 6, 7, 8, 9, 6, 7, 8, 9, 6, 7, 8, 9]"
      ]
     },
     "execution_count": 18,
     "metadata": {},
     "output_type": "execute_result"
    }
   ],
   "source": [
    "l1 * 5"
   ]
  },
  {
   "cell_type": "code",
   "execution_count": 22,
   "id": "e7ba752c-9376-4c35-bf84-e8da6e6fbcd7",
   "metadata": {},
   "outputs": [
    {
     "name": "stdout",
     "output_type": "stream",
     "text": [
      "30\n",
      "35\n",
      "40\n",
      "45\n"
     ]
    }
   ],
   "source": [
    "for i in l1: \n",
    "    print(i*5)"
   ]
  },
  {
   "cell_type": "code",
   "execution_count": 26,
   "id": "229f95fc-92cf-4b40-9f12-592c205acaf1",
   "metadata": {},
   "outputs": [
    {
     "data": {
      "text/plain": [
       "(30, 35, 40, 45)"
      ]
     },
     "execution_count": 26,
     "metadata": {},
     "output_type": "execute_result"
    }
   ],
   "source": [
    "tuple(map(lambda a: a*5, l1))"
   ]
  },
  {
   "cell_type": "markdown",
   "id": "d0b87f32-151b-49ad-b09d-5a94538a6d22",
   "metadata": {},
   "source": [
    "### convert F to C\n",
    "<img src='https://www.vedantu.com/seo/content-images/fae10189-6150-408e-a104-9cd8bc78c705.png' width=200>"
   ]
  },
  {
   "cell_type": "code",
   "execution_count": 27,
   "id": "0f0e56dd-8f37-4039-a4c7-ad3d8d8c1281",
   "metadata": {},
   "outputs": [
    {
     "data": {
      "text/plain": [
       "50.0"
      ]
     },
     "execution_count": 27,
     "metadata": {},
     "output_type": "execute_result"
    }
   ],
   "source": [
    "# convert 10 degree c to F\n",
    "(10 * 9/5) + 32"
   ]
  },
  {
   "cell_type": "code",
   "execution_count": 28,
   "id": "c487e3ef-f5f4-4251-a04e-114280631bd3",
   "metadata": {},
   "outputs": [
    {
     "data": {
      "text/plain": [
       "[50.0, 68.0, 86.0, 73.4, 172.4]"
      ]
     },
     "execution_count": 28,
     "metadata": {},
     "output_type": "execute_result"
    }
   ],
   "source": [
    "c = [10, 20, 30, 23, 78]\n",
    "list(map(lambda c1:(c1 * 9/5)+32, c))"
   ]
  },
  {
   "cell_type": "code",
   "execution_count": 29,
   "id": "85972fbf-e4db-4a66-8e1a-347627eb8364",
   "metadata": {},
   "outputs": [
    {
     "data": {
      "text/plain": [
       "(14, 4, 5, 16)"
      ]
     },
     "execution_count": 29,
     "metadata": {},
     "output_type": "execute_result"
    }
   ],
   "source": [
    "l1 = [9, 2, 5, 7]\n",
    "l2 = [5, 2, 0, 9]\n",
    "tuple(map(lambda l1,l2:l1+l2, l1, l2))"
   ]
  },
  {
   "cell_type": "code",
   "execution_count": 30,
   "id": "899839ef-dfd7-4e07-a56a-3e6ab41e0cc9",
   "metadata": {},
   "outputs": [
    {
     "data": {
      "text/plain": [
       "[1, 2, 3, 4, 5, 6, 7, 8, 9, 10]"
      ]
     },
     "execution_count": 30,
     "metadata": {},
     "output_type": "execute_result"
    }
   ],
   "source": [
    "l3 = list(range(1,11))\n",
    "l3"
   ]
  },
  {
   "cell_type": "code",
   "execution_count": 33,
   "id": "1bb2a6dd-7104-49d3-9b01-d44b06a86e21",
   "metadata": {},
   "outputs": [
    {
     "data": {
      "text/plain": [
       "[True, False, True, False, True, False, True, False, True, False]"
      ]
     },
     "execution_count": 33,
     "metadata": {},
     "output_type": "execute_result"
    }
   ],
   "source": [
    "list(map(lambda l3:l3%2!=0, l3))"
   ]
  },
  {
   "cell_type": "code",
   "execution_count": 34,
   "id": "f63b5c07-678d-4528-9c5c-626e79c734da",
   "metadata": {},
   "outputs": [
    {
     "data": {
      "text/plain": [
       "[1, 3, 5, 7, 9]"
      ]
     },
     "execution_count": 34,
     "metadata": {},
     "output_type": "execute_result"
    }
   ],
   "source": [
    "# filter \n",
    "## syntax filter(function, iteration)\n",
    "\n",
    "list(filter(lambda l3:l3%2!=0, l3))"
   ]
  },
  {
   "cell_type": "code",
   "execution_count": 35,
   "id": "94f2ff5d-06a3-443f-9547-1dc4fe78a4ba",
   "metadata": {},
   "outputs": [
    {
     "data": {
      "text/plain": [
       "[2, 4, 6, 8, 10]"
      ]
     },
     "execution_count": 35,
     "metadata": {},
     "output_type": "execute_result"
    }
   ],
   "source": [
    "list(filter(lambda l3:l3%2==0, l3))"
   ]
  },
  {
   "cell_type": "code",
   "execution_count": 38,
   "id": "efb12a68-89c0-4dfe-b82f-48488f937ecc",
   "metadata": {},
   "outputs": [
    {
     "data": {
      "text/plain": [
       "['lion', 'tiger', 'elephant']"
      ]
     },
     "execution_count": 38,
     "metadata": {},
     "output_type": "execute_result"
    }
   ],
   "source": [
    "animals = ['cat', 'dog', 'lion', 'tiger', 'elephant']\n",
    "list(filter(lambda a:len(a)>3, animals))"
   ]
  },
  {
   "cell_type": "code",
   "execution_count": 39,
   "id": "0ad35335-b362-4af7-abb3-18a87ef6620a",
   "metadata": {},
   "outputs": [],
   "source": [
    "# Reduce \n",
    "### syntax : reduce(lambda, iteration)"
   ]
  },
  {
   "cell_type": "code",
   "execution_count": 40,
   "id": "9f7792a7-f4ce-409f-836a-46d9cd42d46a",
   "metadata": {},
   "outputs": [
    {
     "data": {
      "text/plain": [
       "[1, 2, 3, 4, 5, 6, 7, 8, 9, 10]"
      ]
     },
     "execution_count": 40,
     "metadata": {},
     "output_type": "execute_result"
    }
   ],
   "source": [
    "l3"
   ]
  },
  {
   "cell_type": "code",
   "execution_count": 42,
   "id": "e1370e33-414f-4d6a-9756-33da294d26aa",
   "metadata": {},
   "outputs": [],
   "source": [
    "from functools import reduce"
   ]
  },
  {
   "cell_type": "code",
   "execution_count": 43,
   "id": "69df9eef-ca1a-4b7f-a7ad-0d421a993d71",
   "metadata": {},
   "outputs": [
    {
     "data": {
      "text/plain": [
       "55"
      ]
     },
     "execution_count": 43,
     "metadata": {},
     "output_type": "execute_result"
    }
   ],
   "source": [
    "reduce(lambda a,b:a+b, l3)"
   ]
  },
  {
   "cell_type": "code",
   "execution_count": 44,
   "id": "073c780e-7e79-4059-a9bd-9a0fa9997757",
   "metadata": {},
   "outputs": [],
   "source": [
    "# word = ['rose', 'LILLY', 'jasmine'] -- filter only upper case and loweer case"
   ]
  },
  {
   "cell_type": "code",
   "execution_count": 45,
   "id": "50142054-19ca-453f-b1d4-d54ee044e998",
   "metadata": {},
   "outputs": [],
   "source": [
    "details = [\n",
    "    {'name':'Kani', 'age':25}, \n",
    "    {'name':'Jeeva', 'age':32},\n",
    "    {'name':'vivek','age':41}\n",
    "]"
   ]
  },
  {
   "cell_type": "code",
   "execution_count": 50,
   "id": "f6c370de-c666-4135-89e2-ea3dcbcf0419",
   "metadata": {},
   "outputs": [
    {
     "data": {
      "text/plain": [
       "['JEEVA', 'VIVEK']"
      ]
     },
     "execution_count": 50,
     "metadata": {},
     "output_type": "execute_result"
    }
   ],
   "source": [
    "list(map(lambda a:a['name'].upper(), filter(lambda a:a['age']>=30, details)))"
   ]
  },
  {
   "cell_type": "code",
   "execution_count": null,
   "id": "1be55a0b-f40f-4d7b-9b16-4669365e827b",
   "metadata": {},
   "outputs": [],
   "source": [
    "# Task - list[+ve, -ve] separte +ve num, -ve num \n",
    "# if +ve add with 100"
   ]
  },
  {
   "cell_type": "markdown",
   "id": "955646a8-22a7-4a25-8092-b04d67841469",
   "metadata": {},
   "source": [
    "# Scope & Namespace"
   ]
  },
  {
   "cell_type": "code",
   "execution_count": 52,
   "id": "f3860566-bef4-4d24-88fc-1f40c2932e37",
   "metadata": {},
   "outputs": [
    {
     "ename": "UnboundLocalError",
     "evalue": "cannot access local variable 'a' where it is not associated with a value",
     "output_type": "error",
     "traceback": [
      "\u001b[1;31m---------------------------------------------------------------------------\u001b[0m",
      "\u001b[1;31mUnboundLocalError\u001b[0m                         Traceback (most recent call last)",
      "Cell \u001b[1;32mIn[52], line 7\u001b[0m\n\u001b[0;32m      4\u001b[0m     a \u001b[38;5;241m=\u001b[39m a \u001b[38;5;241m+\u001b[39m \u001b[38;5;241m20\u001b[39m\n\u001b[0;32m      5\u001b[0m     \u001b[38;5;28;01mreturn\u001b[39;00m a\n\u001b[1;32m----> 7\u001b[0m add()\n",
      "Cell \u001b[1;32mIn[52], line 4\u001b[0m, in \u001b[0;36madd\u001b[1;34m()\u001b[0m\n\u001b[0;32m      3\u001b[0m \u001b[38;5;28;01mdef\u001b[39;00m \u001b[38;5;21madd\u001b[39m(): \n\u001b[1;32m----> 4\u001b[0m     a \u001b[38;5;241m=\u001b[39m a \u001b[38;5;241m+\u001b[39m \u001b[38;5;241m20\u001b[39m\n\u001b[0;32m      5\u001b[0m     \u001b[38;5;28;01mreturn\u001b[39;00m a\n",
      "\u001b[1;31mUnboundLocalError\u001b[0m: cannot access local variable 'a' where it is not associated with a value"
     ]
    }
   ],
   "source": [
    "a = 10 # global\n",
    "\n",
    "def add(): \n",
    "    a = a + 20\n",
    "    return a\n",
    "\n",
    "add()"
   ]
  },
  {
   "cell_type": "code",
   "execution_count": 53,
   "id": "bbcc56a9-4132-40da-8324-96c2d2d71ff9",
   "metadata": {},
   "outputs": [
    {
     "data": {
      "text/plain": [
       "35"
      ]
     },
     "execution_count": 53,
     "metadata": {},
     "output_type": "execute_result"
    }
   ],
   "source": [
    "a = 10 # global\n",
    "\n",
    "def add(): \n",
    "    a = 15 # local\n",
    "    a = a + 20\n",
    "    return a\n",
    "\n",
    "add()"
   ]
  },
  {
   "cell_type": "code",
   "execution_count": 54,
   "id": "19db7a9d-dee9-4be9-8f11-1c797c1cbd5e",
   "metadata": {},
   "outputs": [
    {
     "data": {
      "text/plain": [
       "10"
      ]
     },
     "execution_count": 54,
     "metadata": {},
     "output_type": "execute_result"
    }
   ],
   "source": [
    "a"
   ]
  },
  {
   "cell_type": "code",
   "execution_count": 55,
   "id": "6b61c25f-33c4-4d2a-9591-f56ca21a577c",
   "metadata": {},
   "outputs": [
    {
     "data": {
      "text/plain": [
       "30"
      ]
     },
     "execution_count": 55,
     "metadata": {},
     "output_type": "execute_result"
    }
   ],
   "source": [
    "a = 10 # global\n",
    "\n",
    "def add(): \n",
    "    global a \n",
    "    a = a + 20\n",
    "    return a\n",
    "\n",
    "add()"
   ]
  },
  {
   "cell_type": "code",
   "execution_count": 56,
   "id": "58861515-4c18-46ed-bb84-e368c3bca5ec",
   "metadata": {},
   "outputs": [
    {
     "data": {
      "text/plain": [
       "30"
      ]
     },
     "execution_count": 56,
     "metadata": {},
     "output_type": "execute_result"
    }
   ],
   "source": [
    "a"
   ]
  },
  {
   "cell_type": "markdown",
   "id": "4f35b8be-93d4-4946-87bc-a1ca10cdf047",
   "metadata": {},
   "source": [
    "# module"
   ]
  },
  {
   "cell_type": "code",
   "execution_count": 58,
   "id": "587ada20-ff37-4349-80db-abf84275c57b",
   "metadata": {},
   "outputs": [],
   "source": [
    "import keyword"
   ]
  },
  {
   "cell_type": "code",
   "execution_count": 59,
   "id": "3c96936f-b7ba-4dae-8df7-d19b74fabaab",
   "metadata": {},
   "outputs": [
    {
     "data": {
      "text/plain": [
       "['False',\n",
       " 'None',\n",
       " 'True',\n",
       " 'and',\n",
       " 'as',\n",
       " 'assert',\n",
       " 'async',\n",
       " 'await',\n",
       " 'break',\n",
       " 'class',\n",
       " 'continue',\n",
       " 'def',\n",
       " 'del',\n",
       " 'elif',\n",
       " 'else',\n",
       " 'except',\n",
       " 'finally',\n",
       " 'for',\n",
       " 'from',\n",
       " 'global',\n",
       " 'if',\n",
       " 'import',\n",
       " 'in',\n",
       " 'is',\n",
       " 'lambda',\n",
       " 'nonlocal',\n",
       " 'not',\n",
       " 'or',\n",
       " 'pass',\n",
       " 'raise',\n",
       " 'return',\n",
       " 'try',\n",
       " 'while',\n",
       " 'with',\n",
       " 'yield']"
      ]
     },
     "execution_count": 59,
     "metadata": {},
     "output_type": "execute_result"
    }
   ],
   "source": [
    "keyword.kwlist"
   ]
  },
  {
   "cell_type": "code",
   "execution_count": 60,
   "id": "ab89452c-1a6f-4077-91ad-28d550790223",
   "metadata": {},
   "outputs": [],
   "source": [
    "import pandas as pd"
   ]
  },
  {
   "cell_type": "code",
   "execution_count": 61,
   "id": "baa9a044-92cf-4c95-9b5e-fbbc63c68011",
   "metadata": {},
   "outputs": [
    {
     "name": "stdout",
     "output_type": "stream",
     "text": [
      "Requirement already satisfied: pandas in c:\\users\\sathy\\anaconda3\\lib\\site-packages (2.1.4)Note: you may need to restart the kernel to use updated packages.\n",
      "\n",
      "Requirement already satisfied: numpy<2,>=1.23.2 in c:\\users\\sathy\\anaconda3\\lib\\site-packages (from pandas) (1.26.4)\n",
      "Requirement already satisfied: python-dateutil>=2.8.2 in c:\\users\\sathy\\anaconda3\\lib\\site-packages (from pandas) (2.8.2)\n",
      "Requirement already satisfied: pytz>=2020.1 in c:\\users\\sathy\\anaconda3\\lib\\site-packages (from pandas) (2023.3.post1)\n",
      "Requirement already satisfied: tzdata>=2022.1 in c:\\users\\sathy\\anaconda3\\lib\\site-packages (from pandas) (2023.3)\n",
      "Requirement already satisfied: six>=1.5 in c:\\users\\sathy\\anaconda3\\lib\\site-packages (from python-dateutil>=2.8.2->pandas) (1.16.0)\n"
     ]
    }
   ],
   "source": [
    "pip install pandas"
   ]
  },
  {
   "cell_type": "code",
   "execution_count": 62,
   "id": "cfd292db-a698-4a71-94b2-5b4f235807dd",
   "metadata": {},
   "outputs": [],
   "source": [
    "from sklearn.linear_model import LogisticRegression"
   ]
  },
  {
   "cell_type": "code",
   "execution_count": null,
   "id": "42a6cc1d-dc6a-40ce-88e8-ba4811a63007",
   "metadata": {},
   "outputs": [],
   "source": [
    "## module creation"
   ]
  },
  {
   "cell_type": "code",
   "execution_count": 65,
   "id": "5289589a-3c90-4503-a69e-c6d02fade3d0",
   "metadata": {},
   "outputs": [],
   "source": [
    "def welcome(name): \n",
    "    print('Hello! ' + name +' welcome to data field')"
   ]
  },
  {
   "cell_type": "code",
   "execution_count": 66,
   "id": "3c8a2470-eae1-4f62-a1e8-a79d20ee2c3d",
   "metadata": {},
   "outputs": [
    {
     "name": "stdout",
     "output_type": "stream",
     "text": [
      "Hello! Priya welcome to data field\n"
     ]
    }
   ],
   "source": [
    "welcome('Priya')"
   ]
  },
  {
   "cell_type": "code",
   "execution_count": 67,
   "id": "2eeb9716-067a-49e6-bf78-b1e00fad39ee",
   "metadata": {},
   "outputs": [
    {
     "ename": "ModuleNotFoundError",
     "evalue": "No module named 'welcome'",
     "output_type": "error",
     "traceback": [
      "\u001b[1;31m---------------------------------------------------------------------------\u001b[0m",
      "\u001b[1;31mModuleNotFoundError\u001b[0m                       Traceback (most recent call last)",
      "Cell \u001b[1;32mIn[67], line 1\u001b[0m\n\u001b[1;32m----> 1\u001b[0m \u001b[38;5;28;01mimport\u001b[39;00m \u001b[38;5;21;01mwelcome\u001b[39;00m\n",
      "\u001b[1;31mModuleNotFoundError\u001b[0m: No module named 'welcome'"
     ]
    }
   ],
   "source": [
    "import welcome"
   ]
  },
  {
   "cell_type": "code",
   "execution_count": 1,
   "id": "51002f14-608a-4a79-8639-8bd433c7d27e",
   "metadata": {},
   "outputs": [],
   "source": [
    "import module"
   ]
  },
  {
   "cell_type": "code",
   "execution_count": 2,
   "id": "00092b6a-94af-491d-8cea-2cb31a89c716",
   "metadata": {},
   "outputs": [
    {
     "name": "stdout",
     "output_type": "stream",
     "text": [
      "Hello! Harini welcome to data field\n"
     ]
    }
   ],
   "source": [
    "module.welcome('Harini')"
   ]
  },
  {
   "cell_type": "code",
   "execution_count": 3,
   "id": "83c4cc98-398f-486c-a1d8-35fab8f4ca3b",
   "metadata": {},
   "outputs": [
    {
     "ename": "ModuleNotFoundError",
     "evalue": "No module named 'mymodule'",
     "output_type": "error",
     "traceback": [
      "\u001b[1;31m---------------------------------------------------------------------------\u001b[0m",
      "\u001b[1;31mModuleNotFoundError\u001b[0m                       Traceback (most recent call last)",
      "Cell \u001b[1;32mIn[3], line 1\u001b[0m\n\u001b[1;32m----> 1\u001b[0m \u001b[38;5;28;01mimport\u001b[39;00m \u001b[38;5;21;01mmymodule\u001b[39;00m\n",
      "\u001b[1;31mModuleNotFoundError\u001b[0m: No module named 'mymodule'"
     ]
    }
   ],
   "source": [
    "import mymodule"
   ]
  },
  {
   "cell_type": "code",
   "execution_count": 1,
   "id": "93e3582e-4dce-4a51-9f17-1ab6d03d45bd",
   "metadata": {},
   "outputs": [],
   "source": [
    "import mymodule"
   ]
  },
  {
   "cell_type": "code",
   "execution_count": 2,
   "id": "a9d9d2fa-f137-471d-b9fe-fbe2bf55527a",
   "metadata": {},
   "outputs": [
    {
     "name": "stdout",
     "output_type": "stream",
     "text": [
      "Hello! Harini modified\n"
     ]
    }
   ],
   "source": [
    "mymodule.welcome('Harini')"
   ]
  },
  {
   "cell_type": "code",
   "execution_count": 3,
   "id": "4b1fb955-b185-4ef5-a42f-78cb33ea13d6",
   "metadata": {},
   "outputs": [],
   "source": [
    "import math"
   ]
  },
  {
   "cell_type": "code",
   "execution_count": null,
   "id": "32b11402-1737-495a-8ee6-0f1327c57bd6",
   "metadata": {},
   "outputs": [],
   "source": []
  }
 ],
 "metadata": {
  "kernelspec": {
   "display_name": "Python 3 (ipykernel)",
   "language": "python",
   "name": "python3"
  },
  "language_info": {
   "codemirror_mode": {
    "name": "ipython",
    "version": 3
   },
   "file_extension": ".py",
   "mimetype": "text/x-python",
   "name": "python",
   "nbconvert_exporter": "python",
   "pygments_lexer": "ipython3",
   "version": "3.11.7"
  },
  "widgets": {
   "application/vnd.jupyter.widget-state+json": {
    "state": {},
    "version_major": 2,
    "version_minor": 0
   }
  }
 },
 "nbformat": 4,
 "nbformat_minor": 5
}
