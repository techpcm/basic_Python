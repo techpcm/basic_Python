{
 "cells": [
  {
   "cell_type": "code",
   "execution_count": 5,
   "id": "63a88363-7925-4f36-9c5e-6050ce89faee",
   "metadata": {},
   "outputs": [
    {
     "name": "stdout",
     "output_type": "stream",
     "text": [
      "20 40\n",
      "22 44\n",
      "24 48\n",
      "26 52\n",
      "28 56\n"
     ]
    }
   ],
   "source": [
    "# for loop \n",
    "for i in range(20,30,2): \n",
    "    print(i,i*2)"
   ]
  },
  {
   "cell_type": "code",
   "execution_count": 7,
   "id": "bc2fa6bb-4cb5-4a0e-b787-78595de94abd",
   "metadata": {},
   "outputs": [
    {
     "data": {
      "text/plain": [
       "6"
      ]
     },
     "execution_count": 7,
     "metadata": {},
     "output_type": "execute_result"
    }
   ],
   "source": [
    "# count the string using for loop \n",
    "text = 'Python'\n",
    "len(text)"
   ]
  },
  {
   "cell_type": "code",
   "execution_count": 10,
   "id": "acb4410e-b3c9-4710-851e-f4b4f3f706dc",
   "metadata": {},
   "outputs": [
    {
     "name": "stdout",
     "output_type": "stream",
     "text": [
      "P 1\n",
      "y 2\n",
      "t 3\n",
      "h 4\n",
      "o 5\n",
      "n 6\n"
     ]
    },
    {
     "data": {
      "text/plain": [
       "6"
      ]
     },
     "execution_count": 10,
     "metadata": {},
     "output_type": "execute_result"
    }
   ],
   "source": [
    "cnt = 0 \n",
    "for i in text: \n",
    "    cnt = cnt + 1 # cnt=+1\n",
    "\n",
    "cnt"
   ]
  },
  {
   "cell_type": "code",
   "execution_count": 11,
   "id": "d5277036-2dcc-4c26-a277-19d65b59e571",
   "metadata": {},
   "outputs": [],
   "source": [
    "# Task = write code multiplication table "
   ]
  },
  {
   "cell_type": "code",
   "execution_count": 13,
   "id": "22dd2e61-5a19-41d0-b8bc-4d3a775a34a2",
   "metadata": {},
   "outputs": [
    {
     "data": {
      "text/plain": [
       "'Python'"
      ]
     },
     "execution_count": 13,
     "metadata": {},
     "output_type": "execute_result"
    }
   ],
   "source": [
    "text"
   ]
  },
  {
   "cell_type": "code",
   "execution_count": 4,
   "id": "5cc6d26e-4dac-4194-ba2e-f7e49b84cbc8",
   "metadata": {},
   "outputs": [
    {
     "data": {
      "text/plain": [
       "6"
      ]
     },
     "execution_count": 4,
     "metadata": {},
     "output_type": "execute_result"
    }
   ],
   "source": [
    "# while loop \n",
    "text = 'Python'\n",
    "cnt = 0 \n",
    "while text[cnt:]:\n",
    "    # print(cnt, text[cnt:])\n",
    "    cnt = cnt + 1\n",
    "    \n",
    "\n",
    "cnt"
   ]
  },
  {
   "cell_type": "code",
   "execution_count": 8,
   "id": "bc876727-06b9-4a2d-8513-a49ab082db2a",
   "metadata": {},
   "outputs": [
    {
     "data": {
      "text/plain": [
       "'514'"
      ]
     },
     "execution_count": 8,
     "metadata": {},
     "output_type": "execute_result"
    }
   ],
   "source": [
    "# reverse the number using while loop\n",
    "num = 415\n",
    "num1 = str(num)\n",
    "num1[::-1]"
   ]
  },
  {
   "cell_type": "code",
   "execution_count": 18,
   "id": "2c47224b-5256-4d69-8d20-def34593b2a8",
   "metadata": {},
   "outputs": [
    {
     "data": {
      "text/plain": [
       "514"
      ]
     },
     "execution_count": 18,
     "metadata": {},
     "output_type": "execute_result"
    }
   ],
   "source": [
    "# reverse the number using while loop\n",
    "num = 415\n",
    "rev = 0\n",
    "while num != 0:\n",
    "    temp = num % 10\n",
    "    # print(temp)\n",
    "    rev = rev * 10 + temp\n",
    "    # print(rev)\n",
    "    num = num // 10\n",
    "    # print(num)\n",
    "\n",
    "rev"
   ]
  },
  {
   "cell_type": "code",
   "execution_count": 20,
   "id": "656d1076-8eb6-4de9-8753-494effe4b6e5",
   "metadata": {},
   "outputs": [
    {
     "data": {
      "text/plain": [
       "'hihihi'"
      ]
     },
     "execution_count": 20,
     "metadata": {},
     "output_type": "execute_result"
    }
   ],
   "source": [
    "'hi' * 3"
   ]
  },
  {
   "cell_type": "code",
   "execution_count": 23,
   "id": "42d08b20-f38f-4339-8539-1bc9d884e4b5",
   "metadata": {},
   "outputs": [
    {
     "name": "stdout",
     "output_type": "stream",
     "text": [
      "* \n",
      "* * \n",
      "* * * \n",
      "* * * * \n",
      "* * * * * \n"
     ]
    }
   ],
   "source": [
    "# pattern generator \n",
    "num = 1 \n",
    "while num <= 5: \n",
    "    print('* ' * num)\n",
    "    num +=1"
   ]
  },
  {
   "cell_type": "code",
   "execution_count": null,
   "id": "2a29c435-1e67-430c-9633-228dd2917b7c",
   "metadata": {},
   "outputs": [],
   "source": [
    "# Task : write a pgm for inverted right angle trianle"
   ]
  },
  {
   "cell_type": "code",
   "execution_count": 25,
   "id": "9fb19932-6819-4d58-b83a-34605d019ece",
   "metadata": {},
   "outputs": [
    {
     "data": {
      "text/plain": [
       "'Even'"
      ]
     },
     "execution_count": 25,
     "metadata": {},
     "output_type": "execute_result"
    }
   ],
   "source": [
    "# Ternary operator \n",
    "a = 7898\n",
    "'Even' if a%2 == 0 else 'Odd'"
   ]
  },
  {
   "cell_type": "code",
   "execution_count": 28,
   "id": "f00ff1d4-26b3-472e-8a99-d0e3429ff672",
   "metadata": {},
   "outputs": [
    {
     "name": "stdout",
     "output_type": "stream",
     "text": [
      "P\n",
      "y\n",
      "t\n"
     ]
    }
   ],
   "source": [
    "# break, continue, pass  \n",
    "# break -- terminate the loop\n",
    "for i in text: \n",
    "    if i == 'h':\n",
    "        break\n",
    "    print(i)"
   ]
  },
  {
   "cell_type": "code",
   "execution_count": 31,
   "id": "fc1f9720-753a-4c25-a0fe-15cfa3b8265a",
   "metadata": {},
   "outputs": [
    {
     "name": "stdout",
     "output_type": "stream",
     "text": [
      "6\n",
      "7\n",
      "before\n"
     ]
    }
   ],
   "source": [
    "a = 5 \n",
    "while a!=10:\n",
    "    a +=1 \n",
    "    if a == 8:\n",
    "        print('before')\n",
    "        break\n",
    "        print('after')\n",
    "    print(a)"
   ]
  },
  {
   "cell_type": "code",
   "execution_count": 35,
   "id": "b673db6b-08ef-481e-bb42-37cb7b30d58c",
   "metadata": {},
   "outputs": [
    {
     "name": "stdout",
     "output_type": "stream",
     "text": [
      "P\n",
      "y\n",
      "t\n",
      "before\n",
      "o\n",
      "n\n"
     ]
    }
   ],
   "source": [
    "# continue  -- it will restart the loop\n",
    "for i in text: \n",
    "    if i == 'h':\n",
    "        print('before')\n",
    "        continue\n",
    "        print('after')\n",
    "    print(i)"
   ]
  },
  {
   "cell_type": "code",
   "execution_count": 36,
   "id": "ac2dc8a5-514b-404f-adf5-d3c2c5015011",
   "metadata": {},
   "outputs": [
    {
     "name": "stdout",
     "output_type": "stream",
     "text": [
      "6\n",
      "7\n",
      "before\n",
      "9\n",
      "10\n"
     ]
    }
   ],
   "source": [
    "a = 5 \n",
    "while a!=10:\n",
    "    a +=1 \n",
    "    if a == 8:\n",
    "        print('before')\n",
    "        continue\n",
    "        print('after')\n",
    "    print(a)"
   ]
  },
  {
   "cell_type": "code",
   "execution_count": 43,
   "id": "4224c8ed-8a12-46aa-aef1-bb349f291ddb",
   "metadata": {},
   "outputs": [
    {
     "name": "stdout",
     "output_type": "stream",
     "text": [
      "P\n",
      "y\n",
      "t\n",
      "after\n",
      "h\n",
      "o\n",
      "n\n"
     ]
    }
   ],
   "source": [
    "# pass\n",
    "for i in text: \n",
    "    if i == 'h':\n",
    "        pass\n",
    "        print('after')\n",
    "    print(i)"
   ]
  },
  {
   "cell_type": "code",
   "execution_count": 44,
   "id": "05fd99b9-4328-40e9-b885-5075d95cefe8",
   "metadata": {},
   "outputs": [
    {
     "name": "stdout",
     "output_type": "stream",
     "text": [
      "6\n",
      "7\n",
      "before\n",
      "after\n",
      "8\n",
      "9\n",
      "10\n"
     ]
    }
   ],
   "source": [
    "a = 5 \n",
    "while a!=10:\n",
    "    a +=1 \n",
    "    if a == 8:\n",
    "        print('before')\n",
    "        pass\n",
    "        print('after')\n",
    "    print(a)"
   ]
  },
  {
   "cell_type": "code",
   "execution_count": 64,
   "id": "97526a65-8ed3-49b8-8b1a-f2c57d07cd44",
   "metadata": {},
   "outputs": [
    {
     "name": "stdout",
     "output_type": "stream",
     "text": [
      "Anagram\n"
     ]
    }
   ],
   "source": [
    "# anagram \n",
    "# EX - listen, silent\n",
    "# ex: dog - god\n",
    "t1 = 'listen' \n",
    "t2 = 'silent'\n",
    "\n",
    "if sorted(t1) == sorted(t2):\n",
    "    print('Anagram')\n",
    "else: \n",
    "    print('Non anagram')"
   ]
  },
  {
   "cell_type": "code",
   "execution_count": 66,
   "id": "d82d9f1a-3b98-4bb4-808f-bac32e759731",
   "metadata": {},
   "outputs": [
    {
     "name": "stdout",
     "output_type": "stream",
     "text": [
      "Anagram\n"
     ]
    }
   ],
   "source": [
    "cnt = 0\n",
    "for i in t1:\n",
    "    for j in t2:\n",
    "        # print(i, j)\n",
    "        if i == j: \n",
    "            cnt +=1\n",
    "            break\n",
    "if len(t1) == len(t2) == cnt: \n",
    "    print('Anagram')\n",
    "else: \n",
    "    print('Non anagram')"
   ]
  },
  {
   "cell_type": "code",
   "execution_count": 67,
   "id": "45050454-321f-4c5b-b48c-9bc942bf9e45",
   "metadata": {},
   "outputs": [
    {
     "data": {
      "text/plain": [
       "153"
      ]
     },
     "execution_count": 67,
     "metadata": {},
     "output_type": "execute_result"
    }
   ],
   "source": [
    "# armstrong - 0, 1, 153, 370, 371, and 407. Examples of four-digit Armstrong numbers are 1634, 8208, and 9474.\n",
    "153 \n",
    "1 ** 3 + 5 ** 3 + 3 **3"
   ]
  },
  {
   "cell_type": "code",
   "execution_count": 74,
   "id": "ceaad91a-cfb7-4939-ac65-42c53c1579d9",
   "metadata": {},
   "outputs": [
    {
     "data": {
      "text/plain": [
       "'-367'"
      ]
     },
     "execution_count": 74,
     "metadata": {},
     "output_type": "execute_result"
    }
   ],
   "source": [
    "num = -763 \n",
    "num1 = str(num)\n",
    "num1[::-1][-1] + num1[::-1][:3]"
   ]
  },
  {
   "cell_type": "code",
   "execution_count": null,
   "id": "56a8da21-4578-46bf-873b-bc701f488dcc",
   "metadata": {},
   "outputs": [],
   "source": []
  }
 ],
 "metadata": {
  "kernelspec": {
   "display_name": "Python 3 (ipykernel)",
   "language": "python",
   "name": "python3"
  },
  "language_info": {
   "codemirror_mode": {
    "name": "ipython",
    "version": 3
   },
   "file_extension": ".py",
   "mimetype": "text/x-python",
   "name": "python",
   "nbconvert_exporter": "python",
   "pygments_lexer": "ipython3",
   "version": "3.11.4"
  },
  "widgets": {
   "application/vnd.jupyter.widget-state+json": {
    "state": {},
    "version_major": 2,
    "version_minor": 0
   }
  }
 },
 "nbformat": 4,
 "nbformat_minor": 5
}
