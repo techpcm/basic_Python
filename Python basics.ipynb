{
 "cells": [
  {
   "cell_type": "markdown",
   "id": "22447a16-b906-43c6-8cbb-d1631e15ccb0",
   "metadata": {},
   "source": [
    "# Python \n",
    "### Why use python\n",
    "* Easy to learn, simple\n",
    "* Dynamic type - Data type allocated automatically\n",
    "* interpreted - line by line execution as well as compiler"
   ]
  },
  {
   "cell_type": "markdown",
   "id": "0adc2b75-5b79-47b8-9761-367fc9daf7d2",
   "metadata": {},
   "source": [
    "### Data types : ( Primitive data type, Non primitive Datatype)\n",
    "##### Primitive data type\n",
    "* int\n",
    "* float\n",
    "* string\n",
    "* complex\n",
    "* boolean\n",
    "##### Non - Primitive data type\n",
    "* list\n",
    "* tuple\n",
    "* set\n",
    "* dict"
   ]
  },
  {
   "cell_type": "code",
   "execution_count": 1,
   "id": "539cdae7-328a-492b-9bdb-4bcb09c252b6",
   "metadata": {},
   "outputs": [],
   "source": [
    "a = 90 \n",
    "b = 70 "
   ]
  },
  {
   "cell_type": "code",
   "execution_count": 2,
   "id": "8d465ac7-2357-4337-9181-4c4d71b360b6",
   "metadata": {},
   "outputs": [
    {
     "data": {
      "text/plain": [
       "int"
      ]
     },
     "execution_count": 2,
     "metadata": {},
     "output_type": "execute_result"
    }
   ],
   "source": [
    "a + b\n",
    "type(a)"
   ]
  },
  {
   "cell_type": "code",
   "execution_count": 3,
   "id": "80504b4c-f882-47c8-9642-735450590095",
   "metadata": {},
   "outputs": [
    {
     "data": {
      "text/plain": [
       "('Welcome', str)"
      ]
     },
     "execution_count": 3,
     "metadata": {},
     "output_type": "execute_result"
    }
   ],
   "source": [
    "b = 'Welcome'\n",
    "b, type(b)"
   ]
  },
  {
   "cell_type": "code",
   "execution_count": 8,
   "id": "d041839d-d825-4799-ab0e-7df0692e76f9",
   "metadata": {},
   "outputs": [
    {
     "name": "stdout",
     "output_type": "stream",
     "text": [
      "9789\n",
      "<class 'str'>\n"
     ]
    },
    {
     "data": {
      "text/plain": [
       "90"
      ]
     },
     "execution_count": 8,
     "metadata": {},
     "output_type": "execute_result"
    }
   ],
   "source": [
    "b = '9789'\n",
    "print(b)\n",
    "print(type(b))\n",
    "a"
   ]
  },
  {
   "cell_type": "code",
   "execution_count": 9,
   "id": "657525eb-8dde-4892-9915-9b0324b68f18",
   "metadata": {},
   "outputs": [
    {
     "data": {
      "text/plain": [
       "(987.098, float)"
      ]
     },
     "execution_count": 9,
     "metadata": {},
     "output_type": "execute_result"
    }
   ],
   "source": [
    "c = 987.098\n",
    "c, type(c)"
   ]
  },
  {
   "cell_type": "code",
   "execution_count": 10,
   "id": "195e451c-7055-4296-b788-c0dfc14d766e",
   "metadata": {},
   "outputs": [
    {
     "data": {
      "text/plain": [
       "((8+9j), complex)"
      ]
     },
     "execution_count": 10,
     "metadata": {},
     "output_type": "execute_result"
    }
   ],
   "source": [
    "d = 8 +9j\n",
    "d, type(d)"
   ]
  },
  {
   "cell_type": "code",
   "execution_count": 11,
   "id": "9cddb8a0-5a89-4f15-9cec-e53acfb91b14",
   "metadata": {},
   "outputs": [
    {
     "ename": "SyntaxError",
     "evalue": "invalid decimal literal (3638715509.py, line 1)",
     "output_type": "error",
     "traceback": [
      "\u001b[1;36m  Cell \u001b[1;32mIn[11], line 1\u001b[1;36m\u001b[0m\n\u001b[1;33m    e = 6+9i\u001b[0m\n\u001b[1;37m          ^\u001b[0m\n\u001b[1;31mSyntaxError\u001b[0m\u001b[1;31m:\u001b[0m invalid decimal literal\n"
     ]
    }
   ],
   "source": [
    "e = 6+9i"
   ]
  },
  {
   "cell_type": "code",
   "execution_count": 12,
   "id": "12613db4-b526-4db3-9ef5-0e4a11ead2ff",
   "metadata": {},
   "outputs": [
    {
     "data": {
      "text/plain": [
       "bool"
      ]
     },
     "execution_count": 12,
     "metadata": {},
     "output_type": "execute_result"
    }
   ],
   "source": [
    "d = False # 1 - True\n",
    "type(d)"
   ]
  },
  {
   "cell_type": "code",
   "execution_count": 17,
   "id": "8fc6318e-ed63-44c6-94fd-dd008630aaa5",
   "metadata": {},
   "outputs": [
    {
     "name": "stdout",
     "output_type": "stream",
     "text": [
      "True\n"
     ]
    },
    {
     "data": {
      "text/plain": [
       "(None, True)"
      ]
     },
     "execution_count": 17,
     "metadata": {},
     "output_type": "execute_result"
    }
   ],
   "source": [
    "e = True\n",
    "type(e) \n",
    "print(e), e"
   ]
  },
  {
   "cell_type": "markdown",
   "id": "e16adfc0-bf40-436d-98fc-b12baa77c33f",
   "metadata": {},
   "source": [
    "# operators : \n",
    "* arithmetic : +, -, *, / (div), %- modulus (R), // - floor div (Q), ** (power) \n",
    "* Logical operators : and, or, not \n",
    "* conditional : ==, !=, <, <=, >, >="
   ]
  },
  {
   "cell_type": "code",
   "execution_count": 18,
   "id": "cc12230f-4a6c-43e0-bb2b-c21804e30b8d",
   "metadata": {},
   "outputs": [],
   "source": [
    "a = 90\n",
    "b = 12"
   ]
  },
  {
   "cell_type": "code",
   "execution_count": 19,
   "id": "e4b159d7-c48c-42e4-95bd-a42dcc976b39",
   "metadata": {},
   "outputs": [
    {
     "data": {
      "text/plain": [
       "102"
      ]
     },
     "execution_count": 19,
     "metadata": {},
     "output_type": "execute_result"
    }
   ],
   "source": [
    "a + b"
   ]
  },
  {
   "cell_type": "code",
   "execution_count": 20,
   "id": "a823dc07-09a4-4810-bef5-f62fb777e6a4",
   "metadata": {},
   "outputs": [
    {
     "data": {
      "text/plain": [
       "78"
      ]
     },
     "execution_count": 20,
     "metadata": {},
     "output_type": "execute_result"
    }
   ],
   "source": [
    "a - b"
   ]
  },
  {
   "cell_type": "code",
   "execution_count": 21,
   "id": "973e2538-f2b2-4da1-ab79-9fc42ebee68d",
   "metadata": {},
   "outputs": [
    {
     "data": {
      "text/plain": [
       "1080"
      ]
     },
     "execution_count": 21,
     "metadata": {},
     "output_type": "execute_result"
    }
   ],
   "source": [
    "a * b"
   ]
  },
  {
   "cell_type": "code",
   "execution_count": 22,
   "id": "febc7ef3-8cc0-4ddd-87b4-2ba349bc9502",
   "metadata": {},
   "outputs": [
    {
     "data": {
      "text/plain": [
       "7.5"
      ]
     },
     "execution_count": 22,
     "metadata": {},
     "output_type": "execute_result"
    }
   ],
   "source": [
    "a/b"
   ]
  },
  {
   "cell_type": "code",
   "execution_count": 24,
   "id": "1fd6ee8d-e136-4bca-ba10-9826357090be",
   "metadata": {},
   "outputs": [
    {
     "data": {
      "text/plain": [
       "2.0"
      ]
     },
     "execution_count": 24,
     "metadata": {},
     "output_type": "execute_result"
    }
   ],
   "source": [
    "4/2"
   ]
  },
  {
   "cell_type": "code",
   "execution_count": 25,
   "id": "040669f3-bb1f-43dd-954e-9cc920d0729f",
   "metadata": {},
   "outputs": [
    {
     "data": {
      "text/plain": [
       "0"
      ]
     },
     "execution_count": 25,
     "metadata": {},
     "output_type": "execute_result"
    }
   ],
   "source": [
    "4 % 2"
   ]
  },
  {
   "cell_type": "code",
   "execution_count": 28,
   "id": "82145ec1-f377-4bb3-9c0c-f1d4937c1b7f",
   "metadata": {},
   "outputs": [
    {
     "data": {
      "text/plain": [
       "5"
      ]
     },
     "execution_count": 28,
     "metadata": {},
     "output_type": "execute_result"
    }
   ],
   "source": [
    "85 % 10"
   ]
  },
  {
   "cell_type": "code",
   "execution_count": 27,
   "id": "cac56b36-75f7-42f5-89ef-aa03d8282588",
   "metadata": {},
   "outputs": [
    {
     "data": {
      "text/plain": [
       "8"
      ]
     },
     "execution_count": 27,
     "metadata": {},
     "output_type": "execute_result"
    }
   ],
   "source": [
    "85 // 10"
   ]
  },
  {
   "cell_type": "code",
   "execution_count": 29,
   "id": "58a8d3c9-747e-4a6a-93d4-f03fd8e9ed0b",
   "metadata": {},
   "outputs": [
    {
     "data": {
      "text/plain": [
       "243"
      ]
     },
     "execution_count": 29,
     "metadata": {},
     "output_type": "execute_result"
    }
   ],
   "source": [
    "3 ** 5 "
   ]
  },
  {
   "cell_type": "code",
   "execution_count": 31,
   "id": "33f5c155-35ab-4ebd-b905-5c2a5ddf76db",
   "metadata": {},
   "outputs": [
    {
     "data": {
      "text/plain": [
       "False"
      ]
     },
     "execution_count": 31,
     "metadata": {},
     "output_type": "execute_result"
    }
   ],
   "source": [
    "a == 901"
   ]
  },
  {
   "cell_type": "code",
   "execution_count": 32,
   "id": "8e2f72b3-8b35-4f74-80a3-cea7290f42a2",
   "metadata": {},
   "outputs": [
    {
     "data": {
      "text/plain": [
       "False"
      ]
     },
     "execution_count": 32,
     "metadata": {},
     "output_type": "execute_result"
    }
   ],
   "source": [
    "a< 90"
   ]
  },
  {
   "cell_type": "code",
   "execution_count": 33,
   "id": "26487500-1236-4030-9540-0cb6e7a2db6c",
   "metadata": {},
   "outputs": [
    {
     "data": {
      "text/plain": [
       "True"
      ]
     },
     "execution_count": 33,
     "metadata": {},
     "output_type": "execute_result"
    }
   ],
   "source": [
    "a==90 and b == 12"
   ]
  },
  {
   "cell_type": "code",
   "execution_count": 35,
   "id": "98e4bcd7-6e33-4105-a7d8-214ecee5c39c",
   "metadata": {},
   "outputs": [
    {
     "data": {
      "text/plain": [
       "False"
      ]
     },
     "execution_count": 35,
     "metadata": {},
     "output_type": "execute_result"
    }
   ],
   "source": [
    "a==90 and b == 18"
   ]
  },
  {
   "cell_type": "code",
   "execution_count": 34,
   "id": "4fff44a2-4284-4bf0-b58b-723fde524ec2",
   "metadata": {},
   "outputs": [
    {
     "data": {
      "text/plain": [
       "True"
      ]
     },
     "execution_count": 34,
     "metadata": {},
     "output_type": "execute_result"
    }
   ],
   "source": [
    "a == 90 or b==45"
   ]
  },
  {
   "cell_type": "code",
   "execution_count": 36,
   "id": "2760452f-75a2-4086-bafe-97efff1f7592",
   "metadata": {},
   "outputs": [
    {
     "data": {
      "text/plain": [
       "True"
      ]
     },
     "execution_count": 36,
     "metadata": {},
     "output_type": "execute_result"
    }
   ],
   "source": [
    "not (a<90)"
   ]
  },
  {
   "cell_type": "code",
   "execution_count": 38,
   "id": "ecd3d737-a9da-468c-8a8a-dd3c57fc4d45",
   "metadata": {},
   "outputs": [
    {
     "data": {
      "text/plain": [
       "True"
      ]
     },
     "execution_count": 38,
     "metadata": {},
     "output_type": "execute_result"
    }
   ],
   "source": [
    "not(a< 90)"
   ]
  },
  {
   "cell_type": "code",
   "execution_count": 39,
   "id": "a0dff449-aef4-4dea-ba9f-7961432eed32",
   "metadata": {},
   "outputs": [
    {
     "data": {
      "text/plain": [
       "False"
      ]
     },
     "execution_count": 39,
     "metadata": {},
     "output_type": "execute_result"
    }
   ],
   "source": [
    "not 1 # 0"
   ]
  },
  {
   "cell_type": "code",
   "execution_count": 40,
   "id": "ab76c85b-b8f4-4453-904a-08330b518b55",
   "metadata": {},
   "outputs": [
    {
     "data": {
      "text/plain": [
       "True"
      ]
     },
     "execution_count": 40,
     "metadata": {},
     "output_type": "execute_result"
    }
   ],
   "source": [
    "not 0 # 1"
   ]
  },
  {
   "cell_type": "code",
   "execution_count": null,
   "id": "39ab216f-1ee4-4274-ae70-b798e6a792aa",
   "metadata": {},
   "outputs": [],
   "source": []
  }
 ],
 "metadata": {
  "kernelspec": {
   "display_name": "Python 3 (ipykernel)",
   "language": "python",
   "name": "python3"
  },
  "language_info": {
   "codemirror_mode": {
    "name": "ipython",
    "version": 3
   },
   "file_extension": ".py",
   "mimetype": "text/x-python",
   "name": "python",
   "nbconvert_exporter": "python",
   "pygments_lexer": "ipython3",
   "version": "3.11.4"
  },
  "widgets": {
   "application/vnd.jupyter.widget-state+json": {
    "state": {},
    "version_major": 2,
    "version_minor": 0
   }
  }
 },
 "nbformat": 4,
 "nbformat_minor": 5
}
