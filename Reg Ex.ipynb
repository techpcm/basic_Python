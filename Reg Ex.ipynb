{
 "cells": [
  {
   "cell_type": "code",
   "execution_count": 1,
   "id": "583e5b8e-f930-4595-b391-9f1596a503ca",
   "metadata": {},
   "outputs": [],
   "source": [
    "import os"
   ]
  },
  {
   "cell_type": "code",
   "execution_count": 2,
   "id": "e976e992-a6bc-47a0-a4f1-e42e7525f170",
   "metadata": {},
   "outputs": [
    {
     "data": {
      "text/plain": [
       "'C:\\\\Users\\\\sathy\\\\Desktop\\\\2pm'"
      ]
     },
     "execution_count": 2,
     "metadata": {},
     "output_type": "execute_result"
    }
   ],
   "source": [
    "os.getcwd()"
   ]
  },
  {
   "cell_type": "code",
   "execution_count": 4,
   "id": "8873fe8f-18d1-48fa-b3b1-a9f0331f8004",
   "metadata": {},
   "outputs": [
    {
     "data": {
      "text/plain": [
       "[('C:\\\\Users\\\\sathy\\\\Desktop\\\\2pm',\n",
       "  ['.ipynb_checkpoints', '2024-08-30_rename', 'zzz', '__pycache__'],\n",
       "  ['Control structure.ipynb',\n",
       "   'Dict, if.ipynb',\n",
       "   'Dummy.txt',\n",
       "   'File handling.ipynb',\n",
       "   'Functions.ipynb',\n",
       "   'Higher order function.ipynb',\n",
       "   'List.ipynb',\n",
       "   'module.py',\n",
       "   'mymodule.py',\n",
       "   'Python basics.ipynb',\n",
       "   'String.ipynb',\n",
       "   'Tuple, set.ipynb',\n",
       "   'Untitled.ipynb']),\n",
       " ('C:\\\\Users\\\\sathy\\\\Desktop\\\\2pm\\\\.ipynb_checkpoints',\n",
       "  [],\n",
       "  ['Control structure-checkpoint.ipynb',\n",
       "   'Dict, if-checkpoint.ipynb',\n",
       "   'File handling-checkpoint.ipynb',\n",
       "   'Functions-checkpoint.ipynb',\n",
       "   'Higher order function-checkpoint.ipynb',\n",
       "   'List-checkpoint.ipynb',\n",
       "   'Python basics-checkpoint.ipynb',\n",
       "   'String-checkpoint.ipynb',\n",
       "   'Tuple, set-checkpoint.ipynb',\n",
       "   'Untitled-checkpoint.ipynb']),\n",
       " ('C:\\\\Users\\\\sathy\\\\Desktop\\\\2pm\\\\2024-08-30_rename',\n",
       "  [],\n",
       "  ['module.py', 'mymodule.py']),\n",
       " ('C:\\\\Users\\\\sathy\\\\Desktop\\\\2pm\\\\zzz', [], []),\n",
       " ('C:\\\\Users\\\\sathy\\\\Desktop\\\\2pm\\\\__pycache__',\n",
       "  [],\n",
       "  ['module.cpython-311.pyc', 'mymodule.cpython-311.pyc'])]"
      ]
     },
     "execution_count": 4,
     "metadata": {},
     "output_type": "execute_result"
    }
   ],
   "source": [
    "# walk - root, dir, files \n",
    "list(os.walk(os.getcwd()))"
   ]
  },
  {
   "cell_type": "code",
   "execution_count": 5,
   "id": "6676313f-d59f-46a9-ae8b-2e782e57f23a",
   "metadata": {},
   "outputs": [],
   "source": [
    "# glob \n",
    "import glob"
   ]
  },
  {
   "cell_type": "code",
   "execution_count": 6,
   "id": "296b8920-12de-47c6-adb4-79b75e2b5832",
   "metadata": {},
   "outputs": [
    {
     "data": {
      "text/plain": [
       "['C:\\\\Users\\\\sathy\\\\Desktop\\\\2pm\\\\Control structure.ipynb',\n",
       " 'C:\\\\Users\\\\sathy\\\\Desktop\\\\2pm\\\\Dict, if.ipynb',\n",
       " 'C:\\\\Users\\\\sathy\\\\Desktop\\\\2pm\\\\File handling.ipynb',\n",
       " 'C:\\\\Users\\\\sathy\\\\Desktop\\\\2pm\\\\Functions.ipynb',\n",
       " 'C:\\\\Users\\\\sathy\\\\Desktop\\\\2pm\\\\Higher order function.ipynb',\n",
       " 'C:\\\\Users\\\\sathy\\\\Desktop\\\\2pm\\\\List.ipynb',\n",
       " 'C:\\\\Users\\\\sathy\\\\Desktop\\\\2pm\\\\Python basics.ipynb',\n",
       " 'C:\\\\Users\\\\sathy\\\\Desktop\\\\2pm\\\\String.ipynb',\n",
       " 'C:\\\\Users\\\\sathy\\\\Desktop\\\\2pm\\\\Tuple, set.ipynb',\n",
       " 'C:\\\\Users\\\\sathy\\\\Desktop\\\\2pm\\\\Untitled.ipynb']"
      ]
     },
     "execution_count": 6,
     "metadata": {},
     "output_type": "execute_result"
    }
   ],
   "source": [
    "glob.glob(os.path.join(os.getcwd(), '*.ipynb'))"
   ]
  },
  {
   "cell_type": "code",
   "execution_count": 7,
   "id": "8e9876c2-4144-42c9-8e33-89c046a1d42b",
   "metadata": {},
   "outputs": [
    {
     "data": {
      "text/plain": [
       "['C:\\\\Users\\\\sathy\\\\Desktop\\\\2pm\\\\Dummy.txt']"
      ]
     },
     "execution_count": 7,
     "metadata": {},
     "output_type": "execute_result"
    }
   ],
   "source": [
    "glob.glob(os.path.join(os.getcwd(), '*.txt'))"
   ]
  },
  {
   "cell_type": "markdown",
   "id": "87434b49-46fb-48e2-8e6c-c4e2f3f1824e",
   "metadata": {},
   "source": [
    "# Reg Ex - Regular Expression\n",
    "* match\n",
    "* search\n",
    "* find all\n",
    "* finditer"
   ]
  },
  {
   "cell_type": "code",
   "execution_count": 10,
   "id": "fefec06e-b2aa-49a6-8847-b7f2772f579f",
   "metadata": {},
   "outputs": [],
   "source": [
    "import re\n",
    "text = '''bcdefghijklmnopqurtuvwxyz\n",
    "ABCDEFGHIJKLMNOPQRSTUVWXYZ\n",
    "1234567890\n",
    "Ha HaHa\n",
    "MetaCharacters (Need to be escaped):\n",
    ". ^ $ * + ? { } [ ] \\ | ( )\n",
    "coreyms.com\n",
    "321-555-4321\n",
    "123.555.1234\n",
    "123*555*1234\n",
    "800-555-1234\n",
    "900-555-1234\n",
    "Mr. Schafer\n",
    "Mr Smith\n",
    "Ms Davis\n",
    "Mrs. Robinson\n",
    "Mr. T\n",
    "'''"
   ]
  },
  {
   "cell_type": "code",
   "execution_count": 11,
   "id": "0d272823-b2b9-4a7f-a79d-6c286be353ad",
   "metadata": {},
   "outputs": [
    {
     "data": {
      "text/plain": [
       "'bcdefghijklmnopqurtuvwxyz\\nABCDEFGHIJKLMNOPQRSTUVWXYZ\\n1234567890\\nHa HaHa\\nMetaCharacters (Need to be escaped):\\n. ^ $ * + ? { } [ ] \\\\ | ( )\\ncoreyms.com\\n321-555-4321\\n123.555.1234\\n123*555*1234\\n800-555-1234\\n900-555-1234\\nMr. Schafer\\nMr Smith\\nMs Davis\\nMrs. Robinson\\nMr. T\\n'"
      ]
     },
     "execution_count": 11,
     "metadata": {},
     "output_type": "execute_result"
    }
   ],
   "source": [
    "text"
   ]
  },
  {
   "cell_type": "code",
   "execution_count": 12,
   "id": "51309f1a-09f1-4373-bd51-25a808019eb2",
   "metadata": {},
   "outputs": [
    {
     "data": {
      "text/plain": [
       "<re.Match object; span=(0, 1), match='b'>"
      ]
     },
     "execution_count": 12,
     "metadata": {},
     "output_type": "execute_result"
    }
   ],
   "source": [
    "# match - At the first index and at first occurance \n",
    "pattern = re.compile(r'b')\n",
    "pattern.match(text)"
   ]
  },
  {
   "cell_type": "code",
   "execution_count": 13,
   "id": "608ca1b2-7e90-4065-ac8a-42db95576e9c",
   "metadata": {},
   "outputs": [],
   "source": [
    "pattern = re.compile(r'c')\n",
    "pattern.match(text)"
   ]
  },
  {
   "cell_type": "code",
   "execution_count": 14,
   "id": "be11469d-94e6-4146-9422-f9988fbe5b11",
   "metadata": {},
   "outputs": [
    {
     "data": {
      "text/plain": [
       "<re.Match object; span=(65, 66), match='a'>"
      ]
     },
     "execution_count": 14,
     "metadata": {},
     "output_type": "execute_result"
    }
   ],
   "source": [
    "# search - At the first index at any first occurance \n",
    "pattern = re.compile(r'a')\n",
    "pattern.search(text)"
   ]
  },
  {
   "cell_type": "code",
   "execution_count": 15,
   "id": "281f996c-89b1-4bbd-8157-21d3ac7a2392",
   "metadata": {},
   "outputs": [
    {
     "data": {
      "text/plain": [
       "['a', 'a', 'a', 'a', 'a', 'a', 'a', 'a', 'a']"
      ]
     },
     "execution_count": 15,
     "metadata": {},
     "output_type": "execute_result"
    }
   ],
   "source": [
    "# find all - get all occurance \n",
    "pattern = re.compile(r'a')\n",
    "pattern.findall(text)"
   ]
  },
  {
   "cell_type": "code",
   "execution_count": 17,
   "id": "377402fb-1dd4-42a6-a1cd-fc9360cd15a0",
   "metadata": {},
   "outputs": [
    {
     "data": {
      "text/plain": [
       "[<re.Match object; span=(65, 66), match='a'>,\n",
       " <re.Match object; span=(68, 69), match='a'>,\n",
       " <re.Match object; span=(70, 71), match='a'>,\n",
       " <re.Match object; span=(75, 76), match='a'>,\n",
       " <re.Match object; span=(78, 79), match='a'>,\n",
       " <re.Match object; span=(80, 81), match='a'>,\n",
       " <re.Match object; span=(102, 103), match='a'>,\n",
       " <re.Match object; span=(221, 222), match='a'>,\n",
       " <re.Match object; span=(239, 240), match='a'>]"
      ]
     },
     "execution_count": 17,
     "metadata": {},
     "output_type": "execute_result"
    }
   ],
   "source": [
    "# find all - get all occurance with the index\n",
    "pattern = re.compile(r'a')\n",
    "list(pattern.finditer(text))"
   ]
  },
  {
   "cell_type": "markdown",
   "id": "a6fed6dc-c6b3-4254-80b8-42672c2a7b0e",
   "metadata": {},
   "source": [
    "## special characters\n",
    "\n",
    "* .       - Any Character Except New Line\n",
    "* \\d      - Digit (0-9)\n",
    "* \\D      - Not a Digit (0-9)\n",
    "* \\w      - Word Character (a-z, A-Z, 0-9, _)\n",
    "* \\W      - Not a Word Character\n",
    "* \\s      - Whitespace (space, tab, newline)\n",
    "* \\S      - Not Whitespace (space, tab, newline)\n",
    "* \\b      - Word Boundary\n",
    "* \\B      - Not a Word Boundary\n",
    "* ^       - Beginning of a String\n",
    "*  dollar      - End of a String\n",
    "* []      - Matches Characters in brackets\n",
    "* [^ ]    - Matches Characters NOT in brackets\n",
    "* |       - Either Or\n",
    "* ( )     - Group\n",
    "\n",
    "## Quantifiers:\n",
    "\n",
    "* (*)       - 0 or More\n",
    "* (+)       - 1 or More\n",
    "* ?       - 0 or One\n",
    "* {3}     - Exact Number\n",
    "* {3,4}   - Range of Numbers (Minimum, Maximum)"
   ]
  },
  {
   "cell_type": "code",
   "execution_count": 19,
   "id": "ef1154fb-6f07-42aa-9234-35ace37d55ac",
   "metadata": {},
   "outputs": [
    {
     "data": {
      "text/plain": [
       "['b']"
      ]
     },
     "execution_count": 19,
     "metadata": {},
     "output_type": "execute_result"
    }
   ],
   "source": [
    "pattern = re.compile(r'^b')\n",
    "pattern.findall(text)"
   ]
  },
  {
   "cell_type": "code",
   "execution_count": 20,
   "id": "9230afa0-269c-4e60-bf83-e0ca26f84368",
   "metadata": {},
   "outputs": [
    {
     "data": {
      "text/plain": [
       "[]"
      ]
     },
     "execution_count": 20,
     "metadata": {},
     "output_type": "execute_result"
    }
   ],
   "source": [
    "pattern = re.compile(r'^a')\n",
    "pattern.findall(text)"
   ]
  },
  {
   "cell_type": "code",
   "execution_count": 24,
   "id": "ff17d779-d67e-4eeb-b37d-fde8236a1e56",
   "metadata": {},
   "outputs": [
    {
     "data": {
      "text/plain": [
       "['T']"
      ]
     },
     "execution_count": 24,
     "metadata": {},
     "output_type": "execute_result"
    }
   ],
   "source": [
    "pattern = re.compile(r'T$')\n",
    "pattern.findall(text)"
   ]
  },
  {
   "cell_type": "code",
   "execution_count": 25,
   "id": "a8f1b79f-7c1f-445a-8200-b32f69cb556b",
   "metadata": {},
   "outputs": [
    {
     "data": {
      "text/plain": [
       "['\\n',\n",
       " '\\n',\n",
       " '\\n',\n",
       " ' ',\n",
       " '\\n',\n",
       " ' ',\n",
       " ' ',\n",
       " ' ',\n",
       " ' ',\n",
       " '\\n',\n",
       " ' ',\n",
       " ' ',\n",
       " ' ',\n",
       " ' ',\n",
       " ' ',\n",
       " ' ',\n",
       " ' ',\n",
       " ' ',\n",
       " ' ',\n",
       " ' ',\n",
       " ' ',\n",
       " ' ',\n",
       " ' ',\n",
       " '\\n',\n",
       " '\\n',\n",
       " '\\n',\n",
       " '\\n',\n",
       " '\\n',\n",
       " '\\n',\n",
       " '\\n',\n",
       " ' ',\n",
       " '\\n',\n",
       " ' ',\n",
       " '\\n',\n",
       " ' ',\n",
       " '\\n',\n",
       " ' ',\n",
       " '\\n',\n",
       " ' ',\n",
       " '\\n']"
      ]
     },
     "execution_count": 25,
     "metadata": {},
     "output_type": "execute_result"
    }
   ],
   "source": [
    "pattern = re.compile(r'\\s')\n",
    "pattern.findall(text)"
   ]
  },
  {
   "cell_type": "code",
   "execution_count": 26,
   "id": "add090ac-ee65-4df9-a524-ef06208481d3",
   "metadata": {
    "scrolled": true
   },
   "outputs": [
    {
     "data": {
      "text/plain": [
       "['1',\n",
       " '2',\n",
       " '3',\n",
       " '4',\n",
       " '5',\n",
       " '6',\n",
       " '7',\n",
       " '8',\n",
       " '9',\n",
       " '0',\n",
       " '3',\n",
       " '2',\n",
       " '1',\n",
       " '5',\n",
       " '5',\n",
       " '5',\n",
       " '4',\n",
       " '3',\n",
       " '2',\n",
       " '1',\n",
       " '1',\n",
       " '2',\n",
       " '3',\n",
       " '5',\n",
       " '5',\n",
       " '5',\n",
       " '1',\n",
       " '2',\n",
       " '3',\n",
       " '4',\n",
       " '1',\n",
       " '2',\n",
       " '3',\n",
       " '5',\n",
       " '5',\n",
       " '5',\n",
       " '1',\n",
       " '2',\n",
       " '3',\n",
       " '4',\n",
       " '8',\n",
       " '0',\n",
       " '0',\n",
       " '5',\n",
       " '5',\n",
       " '5',\n",
       " '1',\n",
       " '2',\n",
       " '3',\n",
       " '4',\n",
       " '9',\n",
       " '0',\n",
       " '0',\n",
       " '5',\n",
       " '5',\n",
       " '5',\n",
       " '1',\n",
       " '2',\n",
       " '3',\n",
       " '4']"
      ]
     },
     "execution_count": 26,
     "metadata": {},
     "output_type": "execute_result"
    }
   ],
   "source": [
    "pattern = re.compile(r'\\d')\n",
    "pattern.findall(text)"
   ]
  },
  {
   "cell_type": "code",
   "execution_count": 27,
   "id": "e3bdcb7f-e8b1-4710-b0d4-926a82faad3e",
   "metadata": {},
   "outputs": [
    {
     "data": {
      "text/plain": [
       "'Data is 02/09/2024, 2-9-2024, 2-9-24'"
      ]
     },
     "execution_count": 27,
     "metadata": {},
     "output_type": "execute_result"
    }
   ],
   "source": [
    "doc = 'Data is 02/09/2024, 2-9-2024, 2-9-24'\n",
    "doc"
   ]
  },
  {
   "cell_type": "code",
   "execution_count": 31,
   "id": "bee40f00-6fcf-4384-8a98-6ee38c1b59ef",
   "metadata": {},
   "outputs": [
    {
     "data": {
      "text/plain": [
       "['2024', '2024']"
      ]
     },
     "execution_count": 31,
     "metadata": {},
     "output_type": "execute_result"
    }
   ],
   "source": [
    "date = re.compile(r'\\d\\d\\d\\d')\n",
    "date.findall(doc)"
   ]
  },
  {
   "cell_type": "code",
   "execution_count": 36,
   "id": "43160122-1aed-40af-888c-7b2bf7ab2e7b",
   "metadata": {},
   "outputs": [
    {
     "data": {
      "text/plain": [
       "['2-9-2024', '2-9-24']"
      ]
     },
     "execution_count": 36,
     "metadata": {},
     "output_type": "execute_result"
    }
   ],
   "source": [
    "date = re.compile(r'\\d{1,2}-\\d{1,2}-\\d{2,4}')\n",
    "date.findall(doc)"
   ]
  },
  {
   "cell_type": "code",
   "execution_count": 37,
   "id": "a0d6fffe-7690-4d91-808a-b778a7c08ff9",
   "metadata": {},
   "outputs": [
    {
     "data": {
      "text/plain": [
       "['02/09/2024', '2-9-2024', '2-9-24']"
      ]
     },
     "execution_count": 37,
     "metadata": {},
     "output_type": "execute_result"
    }
   ],
   "source": [
    "date = re.compile(r'\\d{1,2}[-/]\\d{1,2}[-/]\\d{2,4}')\n",
    "date.findall(doc)"
   ]
  },
  {
   "cell_type": "code",
   "execution_count": 38,
   "id": "0644719a-2995-440b-810e-485f3a954b13",
   "metadata": {},
   "outputs": [
    {
     "data": {
      "text/plain": [
       "'Mail id is sathya@gmail.com, Sathya@Yahoo.co.in, sath.a@gmail.com, sathya_21@yahoo.com'"
      ]
     },
     "execution_count": 38,
     "metadata": {},
     "output_type": "execute_result"
    }
   ],
   "source": [
    "b = 'Mail id is sathya@gmail.com, Sathya@Yahoo.co.in, sath.a@gmail.com, sathya_21@yahoo.com'\n",
    "b"
   ]
  },
  {
   "cell_type": "code",
   "execution_count": 42,
   "id": "e01013e6-c28a-4996-a4ee-d60d3dfd2f62",
   "metadata": {},
   "outputs": [
    {
     "data": {
      "text/plain": [
       "[<re.Match object; span=(11, 27), match='sathya@gmail.com'>,\n",
       " <re.Match object; span=(49, 65), match='sath.a@gmail.com'>]"
      ]
     },
     "execution_count": 42,
     "metadata": {},
     "output_type": "execute_result"
    }
   ],
   "source": [
    "mail = re.compile(r'[a-z0-9_.]+@gmail.com')\n",
    "list(mail.finditer(b))"
   ]
  },
  {
   "cell_type": "code",
   "execution_count": 43,
   "id": "2eb01154-7eae-4b7b-b0ff-a04a440e1f59",
   "metadata": {},
   "outputs": [
    {
     "data": {
      "text/plain": [
       "[<re.Match object; span=(11, 27), match='sathya@gmail.com'>,\n",
       " <re.Match object; span=(49, 65), match='sath.a@gmail.com'>,\n",
       " <re.Match object; span=(67, 86), match='sathya_21@yahoo.com'>]"
      ]
     },
     "execution_count": 43,
     "metadata": {},
     "output_type": "execute_result"
    }
   ],
   "source": [
    "mail = re.compile(r'[a-z0-9_.]+@(gmail|yahoo).com')\n",
    "list(mail.finditer(b))"
   ]
  },
  {
   "cell_type": "code",
   "execution_count": 45,
   "id": "ae051d90-7f67-4836-842f-718b5ccf4a8a",
   "metadata": {},
   "outputs": [
    {
     "data": {
      "text/plain": [
       "'bcdefghijklmnopqurtuvwxyz\\nABCDEFGHIJKLMNOPQRSTUVWXYZ\\n1234567890\\nHa HaHa\\nMetaCharacters (Need to be escaped):\\n. ^ $ * + ? { } [ ] \\\\ | ( )\\ncoreyms.com\\n321-555-4321\\n123.555.1234\\n123*555*1234\\n800-555-1234\\n900-555-1234\\nMr. Schafer\\nMr Smith\\nMs Davis\\nMrs. Robinson\\nMr. T\\n'"
      ]
     },
     "execution_count": 45,
     "metadata": {},
     "output_type": "execute_result"
    }
   ],
   "source": [
    "text"
   ]
  },
  {
   "cell_type": "code",
   "execution_count": 51,
   "id": "904182f6-dc1b-493e-8f9a-c7ea7a22736c",
   "metadata": {},
   "outputs": [
    {
     "data": {
      "text/plain": [
       "['Mr. Schafer', 'Mr Smith', 'Ms Davis', 'Mrs. Robinson', 'Mr. T']"
      ]
     },
     "execution_count": 51,
     "metadata": {},
     "output_type": "execute_result"
    }
   ],
   "source": [
    "name = re.compile(r'Mr?s?\\.?\\s\\w+')\n",
    "name.findall(text)"
   ]
  },
  {
   "cell_type": "code",
   "execution_count": null,
   "id": "557b74eb-dbbb-4b20-9f39-85e026a0811e",
   "metadata": {},
   "outputs": [],
   "source": []
  }
 ],
 "metadata": {
  "kernelspec": {
   "display_name": "Python 3 (ipykernel)",
   "language": "python",
   "name": "python3"
  },
  "language_info": {
   "codemirror_mode": {
    "name": "ipython",
    "version": 3
   },
   "file_extension": ".py",
   "mimetype": "text/x-python",
   "name": "python",
   "nbconvert_exporter": "python",
   "pygments_lexer": "ipython3",
   "version": "3.11.7"
  },
  "widgets": {
   "application/vnd.jupyter.widget-state+json": {
    "state": {},
    "version_major": 2,
    "version_minor": 0
   }
  }
 },
 "nbformat": 4,
 "nbformat_minor": 5
}
